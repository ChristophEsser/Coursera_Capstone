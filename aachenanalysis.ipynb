{
    "cells": [
        {
            "cell_type": "markdown",
            "metadata": {},
            "source": "# Analysis on Aachen\n## on opening a new business"
        },
        {
            "cell_type": "markdown",
            "metadata": {},
            "source": "The analysis is structured into three different parts: \n\n* First a dataframe with the districts, their geometry points and rental fees is created.\n\n* Second the most frequent venue type is determined\n\n* Third a socio-demographic anaylsis is conducted"
        },
        {
            "cell_type": "markdown",
            "metadata": {},
            "source": "### First of all I am importing/installing the necessary libraries"
        },
        {
            "cell_type": "code",
            "execution_count": 544,
            "metadata": {
                "scrolled": true
            },
            "outputs": [
                {
                    "name": "stdout",
                    "output_type": "stream",
                    "text": "Libraries imported.\n"
                }
            ],
            "source": "#Import libraries\n\n#Since I created the notebook on IBM Watson Studio some packages must be installed\n#!conda install -c conda-forge geopandas\n#!conda install -c conda-forge folium=0.5.0 --yes\n#!conda install -c anaconda xlrd --yes\n#!conda install -c conda-forge geopy --yes\n\nimport pandas as pd\nimport geopandas as gpd\nimport numpy as np\nimport json\nimport geojson\nfrom pandas.io.json import json_normalize\nimport io\nimport requests\n\nfrom bs4 import BeautifulSoup\nimport urllib.request, urllib.parse, urllib.error\nfrom geopy.geocoders import Nominatim\n\nimport matplotlib as mpl\nimport matplotlib.pyplot as plt\nimport matplotlib.cm as cm\nimport matplotlib.colors as colors\n\nimport folium\n\nprint('Libraries imported.')"
        },
        {
            "cell_type": "markdown",
            "metadata": {},
            "source": "# Part 1: Creating a dataframe with districts of aachen\n## Including: Coordinates, geometry points and rental fees"
        },
        {
            "cell_type": "markdown",
            "metadata": {},
            "source": "### Find the coordinates of Aachen"
        },
        {
            "cell_type": "code",
            "execution_count": 364,
            "metadata": {
                "scrolled": true
            },
            "outputs": [
                {
                    "name": "stdout",
                    "output_type": "stream",
                    "text": "The geograpical coordinate of Aachen are 50.776351, 6.083862.\n"
                }
            ],
            "source": "address = 'Aachen, DE'\n\ngeolocator = Nominatim(user_agent=\"Aachen\")\nlocation = geolocator.geocode(address)\nlatitude = location.latitude\nlongitude = location.longitude\nprint('The geograpical coordinate of Aachen are {}, {}.'.format(latitude, longitude))"
        },
        {
            "cell_type": "code",
            "execution_count": 365,
            "metadata": {
                "scrolled": true
            },
            "outputs": [
                {
                    "data": {
                        "text/html": "<div style=\"width:100%;\"><div style=\"position:relative;width:100%;height:0;padding-bottom:60%;\"><iframe src=\"about:blank\" style=\"position:absolute;width:100%;height:100%;left:0;top:0;border:none !important;\" data-html=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 onload=\"this.contentDocument.open();this.contentDocument.write(atob(this.getAttribute('data-html')));this.contentDocument.close();\" allowfullscreen webkitallowfullscreen mozallowfullscreen></iframe></div></div>",
                        "text/plain": "<folium.folium.Map at 0x7f4542a980f0>"
                    },
                    "execution_count": 365,
                    "metadata": {},
                    "output_type": "execute_result"
                }
            ],
            "source": "# create map of Aachen using latitude and longitude values\nmap_aachen = folium.Map(location=[latitude, longitude], zoom_start=12.5)\nmap_aachen"
        },
        {
            "cell_type": "markdown",
            "metadata": {},
            "source": "### Websearch of all districts"
        },
        {
            "cell_type": "code",
            "execution_count": 366,
            "metadata": {
                "scrolled": true
            },
            "outputs": [
                {
                    "data": {
                        "text/html": "<div>\n<style scoped>\n    .dataframe tbody tr th:only-of-type {\n        vertical-align: middle;\n    }\n\n    .dataframe tbody tr th {\n        vertical-align: top;\n    }\n\n    .dataframe thead th {\n        text-align: right;\n    }\n</style>\n<table border=\"1\" class=\"dataframe\">\n  <thead>\n    <tr style=\"text-align: right;\">\n      <th></th>\n      <th>Post Code</th>\n      <th>District</th>\n      <th>Street</th>\n    </tr>\n  </thead>\n  <tbody>\n    <tr>\n      <th>0</th>\n      <td>52062</td>\n      <td>Aachen Aachen</td>\n      <td>Hirschgraben</td>\n    </tr>\n    <tr>\n      <th>1</th>\n      <td>52062</td>\n      <td>Aachen Aachen</td>\n      <td>Hermannstr.</td>\n    </tr>\n    <tr>\n      <th>2</th>\n      <td>52062</td>\n      <td>Aachen Aachen</td>\n      <td>Pontdriesch</td>\n    </tr>\n    <tr>\n      <th>3</th>\n      <td>52062</td>\n      <td>Aachen Aachen</td>\n      <td>Mostardstr.</td>\n    </tr>\n    <tr>\n      <th>4</th>\n      <td>52062</td>\n      <td>Aachen Aachen</td>\n      <td>M\u00fcnsterplatz</td>\n    </tr>\n  </tbody>\n</table>\n</div>",
                        "text/plain": "   Post Code       District        Street\n0      52062  Aachen Aachen  Hirschgraben\n1      52062  Aachen Aachen   Hermannstr.\n2      52062  Aachen Aachen   Pontdriesch\n3      52062  Aachen Aachen   Mostardstr.\n4      52062  Aachen Aachen  M\u00fcnsterplatz"
                    },
                    "execution_count": 366,
                    "metadata": {},
                    "output_type": "execute_result"
                }
            ],
            "source": "site = 'http://postleitzahlen.woxikon.de/plz/aachen'\npage = requests.get(site)\nsoup = BeautifulSoup(page.content, 'lxml')\n#print(soup.prettify())\ntable = soup.find_all('table')[0]\n#print(table.prettify())\n\n\npostaltable = pd.read_html(str(table))\npostal = pd.DataFrame(postaltable[0])\npostal.columns = ['Post Code','District','Street']\npostal.head()"
        },
        {
            "cell_type": "markdown",
            "metadata": {},
            "source": "### Dropping the street column & duplicates"
        },
        {
            "cell_type": "code",
            "execution_count": 367,
            "metadata": {},
            "outputs": [
                {
                    "data": {
                        "text/plain": "(1473, 2)"
                    },
                    "execution_count": 367,
                    "metadata": {},
                    "output_type": "execute_result"
                }
            ],
            "source": "postal = postal.drop(columns = ['Street'], axis = 1)\npostal.shape"
        },
        {
            "cell_type": "code",
            "execution_count": 368,
            "metadata": {
                "scrolled": true
            },
            "outputs": [
                {
                    "data": {
                        "text/html": "<div>\n<style scoped>\n    .dataframe tbody tr th:only-of-type {\n        vertical-align: middle;\n    }\n\n    .dataframe tbody tr th {\n        vertical-align: top;\n    }\n\n    .dataframe thead th {\n        text-align: right;\n    }\n</style>\n<table border=\"1\" class=\"dataframe\">\n  <thead>\n    <tr style=\"text-align: right;\">\n      <th></th>\n      <th>Post Code</th>\n      <th>District</th>\n    </tr>\n  </thead>\n  <tbody>\n    <tr>\n      <th>0</th>\n      <td>52062</td>\n      <td>Aachen Aachen</td>\n    </tr>\n    <tr>\n      <th>1</th>\n      <td>52062</td>\n      <td>Aachen</td>\n    </tr>\n    <tr>\n      <th>2</th>\n      <td>52064</td>\n      <td>Aachen Aachen</td>\n    </tr>\n    <tr>\n      <th>3</th>\n      <td>52066</td>\n      <td>Aachen Aachen</td>\n    </tr>\n    <tr>\n      <th>4</th>\n      <td>52068</td>\n      <td>Aachen Aachen</td>\n    </tr>\n  </tbody>\n</table>\n</div>",
                        "text/plain": "   Post Code       District\n0      52062  Aachen Aachen\n1      52062         Aachen\n2      52064  Aachen Aachen\n3      52066  Aachen Aachen\n4      52068  Aachen Aachen"
                    },
                    "execution_count": 368,
                    "metadata": {},
                    "output_type": "execute_result"
                }
            ],
            "source": "postal_copy = postal\naachen_grouped = postal_copy.drop_duplicates().reset_index(drop = True)\naachen_grouped.head()"
        },
        {
            "cell_type": "markdown",
            "metadata": {},
            "source": "### Dropping duplicate rows (analysed by manual search)\n#### some post codes are used multiple times for different districs | in order to simplify i dropped them"
        },
        {
            "cell_type": "code",
            "execution_count": 369,
            "metadata": {},
            "outputs": [
                {
                    "data": {
                        "text/html": "<div>\n<style scoped>\n    .dataframe tbody tr th:only-of-type {\n        vertical-align: middle;\n    }\n\n    .dataframe tbody tr th {\n        vertical-align: top;\n    }\n\n    .dataframe thead th {\n        text-align: right;\n    }\n</style>\n<table border=\"1\" class=\"dataframe\">\n  <thead>\n    <tr style=\"text-align: right;\">\n      <th></th>\n      <th>Post Code</th>\n      <th>District</th>\n    </tr>\n  </thead>\n  <tbody>\n    <tr>\n      <th>0</th>\n      <td>52062</td>\n      <td>Aachen Aachen</td>\n    </tr>\n    <tr>\n      <th>1</th>\n      <td>52064</td>\n      <td>Aachen Aachen</td>\n    </tr>\n    <tr>\n      <th>2</th>\n      <td>52066</td>\n      <td>Aachen Aachen</td>\n    </tr>\n    <tr>\n      <th>3</th>\n      <td>52068</td>\n      <td>Aachen Haaren</td>\n    </tr>\n    <tr>\n      <th>4</th>\n      <td>52070</td>\n      <td>Aachen Laurensberg</td>\n    </tr>\n    <tr>\n      <th>5</th>\n      <td>52072</td>\n      <td>Aachen Richterich</td>\n    </tr>\n    <tr>\n      <th>6</th>\n      <td>52074</td>\n      <td>Aachen Vaalserquartier</td>\n    </tr>\n    <tr>\n      <th>7</th>\n      <td>52076</td>\n      <td>Aachen Brand</td>\n    </tr>\n    <tr>\n      <th>8</th>\n      <td>52078</td>\n      <td>Aachen Eilendorf</td>\n    </tr>\n    <tr>\n      <th>9</th>\n      <td>52080</td>\n      <td>Aachen Verlautenheide</td>\n    </tr>\n  </tbody>\n</table>\n</div>",
                        "text/plain": "   Post Code                District\n0      52062           Aachen Aachen\n1      52064           Aachen Aachen\n2      52066           Aachen Aachen\n3      52068           Aachen Haaren\n4      52070      Aachen Laurensberg\n5      52072       Aachen Richterich\n6      52074  Aachen Vaalserquartier\n7      52076            Aachen Brand\n8      52078        Aachen Eilendorf\n9      52080   Aachen Verlautenheide"
                    },
                    "execution_count": 369,
                    "metadata": {},
                    "output_type": "execute_result"
                }
            ],
            "source": "aachen_grouped.drop(aachen_grouped.index[[1,4,6,7,9,10,11,13,14,15,16,18,19,20,21,22,23,24,25,26,27,28,29,30,32,33,34,35,38,39]], inplace = True)\naachen_grouped.reset_index(drop = True)\naachen_grouped.head()"
        },
        {
            "cell_type": "markdown",
            "metadata": {},
            "source": "### Searching for the coordinates of each distict"
        },
        {
            "cell_type": "code",
            "execution_count": 370,
            "metadata": {
                "scrolled": true
            },
            "outputs": [
                {
                    "data": {
                        "text/html": "<div>\n<style scoped>\n    .dataframe tbody tr th:only-of-type {\n        vertical-align: middle;\n    }\n\n    .dataframe tbody tr th {\n        vertical-align: top;\n    }\n\n    .dataframe thead th {\n        text-align: right;\n    }\n</style>\n<table border=\"1\" class=\"dataframe\">\n  <thead>\n    <tr style=\"text-align: right;\">\n      <th></th>\n      <th>datasetid</th>\n      <th>fields</th>\n      <th>geometry</th>\n      <th>record_timestamp</th>\n      <th>recordid</th>\n    </tr>\n  </thead>\n  <tbody>\n    <tr>\n      <th>0</th>\n      <td>postleitzahlen-deutschland</td>\n      <td>{'note': 'Aachen', 'geo_shape': {'type': 'Poly...</td>\n      <td>{'type': 'Point', 'coordinates': [6.1259155957...</td>\n      <td>2017-03-25T07:26:36.889+01:00</td>\n      <td>97b93a1e3172a0448d7f9d6ce60fc016e6e5c7e0</td>\n    </tr>\n    <tr>\n      <th>1</th>\n      <td>postleitzahlen-deutschland</td>\n      <td>{'note': 'Aachen', 'geo_shape': {'type': 'Poly...</td>\n      <td>{'type': 'Point', 'coordinates': [6.1498836797...</td>\n      <td>2017-03-25T07:26:36.889+01:00</td>\n      <td>09d97726595374de948585eab7cc96db1b0669fc</td>\n    </tr>\n    <tr>\n      <th>2</th>\n      <td>postleitzahlen-deutschland</td>\n      <td>{'note': 'Aachen', 'geo_shape': {'type': 'Poly...</td>\n      <td>{'type': 'Point', 'coordinates': [6.0864692223...</td>\n      <td>2017-03-25T07:26:36.889+01:00</td>\n      <td>0ea5f1e6700d74908ce423605c67864ddf78770c</td>\n    </tr>\n    <tr>\n      <th>3</th>\n      <td>postleitzahlen-deutschland</td>\n      <td>{'note': 'Aachen', 'geo_shape': {'type': 'Poly...</td>\n      <td>{'type': 'Point', 'coordinates': [6.0497212116...</td>\n      <td>2017-03-25T07:26:36.889+01:00</td>\n      <td>e970ae2a324485fefb2c2e4f732d6cea303432ae</td>\n    </tr>\n    <tr>\n      <th>4</th>\n      <td>postleitzahlen-deutschland</td>\n      <td>{'note': 'Aachen', 'geo_shape': {'type': 'Poly...</td>\n      <td>{'type': 'Point', 'coordinates': [6.1614222098...</td>\n      <td>2017-03-25T07:26:36.889+01:00</td>\n      <td>ac87580927fd4b8f588887c52540ede89412c003</td>\n    </tr>\n    <tr>\n      <th>5</th>\n      <td>postleitzahlen-deutschland</td>\n      <td>{'note': 'Aachen', 'geo_shape': {'type': 'Poly...</td>\n      <td>{'type': 'Point', 'coordinates': [6.0785687250...</td>\n      <td>2017-03-25T07:26:36.889+01:00</td>\n      <td>07c4d4fe6c9bf50767465c67c4fece6c378e0298</td>\n    </tr>\n    <tr>\n      <th>6</th>\n      <td>postleitzahlen-deutschland</td>\n      <td>{'note': 'Aachen', 'geo_shape': {'type': 'Poly...</td>\n      <td>{'type': 'Point', 'coordinates': [6.0363417368...</td>\n      <td>2017-03-25T07:26:36.889+01:00</td>\n      <td>5a3c50a030c84479febace9ca5035d1c68fedb5e</td>\n    </tr>\n    <tr>\n      <th>7</th>\n      <td>postleitzahlen-deutschland</td>\n      <td>{'note': 'Aachen', 'geo_shape': {'type': 'Poly...</td>\n      <td>{'type': 'Point', 'coordinates': [6.0962483777...</td>\n      <td>2017-03-25T07:26:36.889+01:00</td>\n      <td>16f2a6337abddd32ff609711375da7d05a67190c</td>\n    </tr>\n    <tr>\n      <th>8</th>\n      <td>postleitzahlen-deutschland</td>\n      <td>{'note': 'Aachen', 'geo_shape': {'type': 'Poly...</td>\n      <td>{'type': 'Point', 'coordinates': [6.1596628377...</td>\n      <td>2017-03-25T07:26:36.889+01:00</td>\n      <td>66fe9a2c25bfe0400e6e625934c127d206ec8a09</td>\n    </tr>\n    <tr>\n      <th>9</th>\n      <td>postleitzahlen-deutschland</td>\n      <td>{'note': 'Aachen', 'geo_shape': {'type': 'Poly...</td>\n      <td>{'type': 'Point', 'coordinates': [6.1048022780...</td>\n      <td>2017-03-25T07:26:36.889+01:00</td>\n      <td>08910aebf6fdb532504e2d7067379df1ca4fcd28</td>\n    </tr>\n  </tbody>\n</table>\n</div>",
                        "text/plain": "                    datasetid  \\\n0  postleitzahlen-deutschland   \n1  postleitzahlen-deutschland   \n2  postleitzahlen-deutschland   \n3  postleitzahlen-deutschland   \n4  postleitzahlen-deutschland   \n5  postleitzahlen-deutschland   \n6  postleitzahlen-deutschland   \n7  postleitzahlen-deutschland   \n8  postleitzahlen-deutschland   \n9  postleitzahlen-deutschland   \n\n                                              fields  \\\n0  {'note': 'Aachen', 'geo_shape': {'type': 'Poly...   \n1  {'note': 'Aachen', 'geo_shape': {'type': 'Poly...   \n2  {'note': 'Aachen', 'geo_shape': {'type': 'Poly...   \n3  {'note': 'Aachen', 'geo_shape': {'type': 'Poly...   \n4  {'note': 'Aachen', 'geo_shape': {'type': 'Poly...   \n5  {'note': 'Aachen', 'geo_shape': {'type': 'Poly...   \n6  {'note': 'Aachen', 'geo_shape': {'type': 'Poly...   \n7  {'note': 'Aachen', 'geo_shape': {'type': 'Poly...   \n8  {'note': 'Aachen', 'geo_shape': {'type': 'Poly...   \n9  {'note': 'Aachen', 'geo_shape': {'type': 'Poly...   \n\n                                            geometry  \\\n0  {'type': 'Point', 'coordinates': [6.1259155957...   \n1  {'type': 'Point', 'coordinates': [6.1498836797...   \n2  {'type': 'Point', 'coordinates': [6.0864692223...   \n3  {'type': 'Point', 'coordinates': [6.0497212116...   \n4  {'type': 'Point', 'coordinates': [6.1614222098...   \n5  {'type': 'Point', 'coordinates': [6.0785687250...   \n6  {'type': 'Point', 'coordinates': [6.0363417368...   \n7  {'type': 'Point', 'coordinates': [6.0962483777...   \n8  {'type': 'Point', 'coordinates': [6.1596628377...   \n9  {'type': 'Point', 'coordinates': [6.1048022780...   \n\n                record_timestamp                                  recordid  \n0  2017-03-25T07:26:36.889+01:00  97b93a1e3172a0448d7f9d6ce60fc016e6e5c7e0  \n1  2017-03-25T07:26:36.889+01:00  09d97726595374de948585eab7cc96db1b0669fc  \n2  2017-03-25T07:26:36.889+01:00  0ea5f1e6700d74908ce423605c67864ddf78770c  \n3  2017-03-25T07:26:36.889+01:00  e970ae2a324485fefb2c2e4f732d6cea303432ae  \n4  2017-03-25T07:26:36.889+01:00  ac87580927fd4b8f588887c52540ede89412c003  \n5  2017-03-25T07:26:36.889+01:00  07c4d4fe6c9bf50767465c67c4fece6c378e0298  \n6  2017-03-25T07:26:36.889+01:00  5a3c50a030c84479febace9ca5035d1c68fedb5e  \n7  2017-03-25T07:26:36.889+01:00  16f2a6337abddd32ff609711375da7d05a67190c  \n8  2017-03-25T07:26:36.889+01:00  66fe9a2c25bfe0400e6e625934c127d206ec8a09  \n9  2017-03-25T07:26:36.889+01:00  08910aebf6fdb532504e2d7067379df1ca4fcd28  "
                    },
                    "execution_count": 370,
                    "metadata": {},
                    "output_type": "execute_result"
                }
            ],
            "source": "postcodesite = 'https://public.opendatasoft.com/explore/dataset/postleitzahlen-deutschland/download/?format=json&refine.note=Aachen&timezone=Europe/Berlin&lang=en'\n\npostcodedf = pd.read_json(postcodesite)\npostcodedf.head()"
        },
        {
            "cell_type": "code",
            "execution_count": 371,
            "metadata": {},
            "outputs": [
                {
                    "data": {
                        "text/plain": "(10, 5)"
                    },
                    "execution_count": 371,
                    "metadata": {},
                    "output_type": "execute_result"
                }
            ],
            "source": "postcodedf.shape"
        },
        {
            "cell_type": "markdown",
            "metadata": {},
            "source": "### Accessing the relevant information of the first row as example"
        },
        {
            "cell_type": "code",
            "execution_count": 372,
            "metadata": {},
            "outputs": [
                {
                    "data": {
                        "text/plain": "[6.125915595722462, 50.77975301879342]"
                    },
                    "execution_count": 372,
                    "metadata": {},
                    "output_type": "execute_result"
                }
            ],
            "source": "postcodedf['geometry'][0]['coordinates']"
        },
        {
            "cell_type": "code",
            "execution_count": 373,
            "metadata": {},
            "outputs": [
                {
                    "data": {
                        "text/plain": "'52068'"
                    },
                    "execution_count": 373,
                    "metadata": {},
                    "output_type": "execute_result"
                }
            ],
            "source": "#postcodedf['fields'][0]['geo_shape']['coordinates'][0]\npostcodedf['fields'][0]['plz']"
        },
        {
            "cell_type": "code",
            "execution_count": 375,
            "metadata": {},
            "outputs": [
                {
                    "data": {
                        "text/html": "<div>\n<style scoped>\n    .dataframe tbody tr th:only-of-type {\n        vertical-align: middle;\n    }\n\n    .dataframe tbody tr th {\n        vertical-align: top;\n    }\n\n    .dataframe thead th {\n        text-align: right;\n    }\n</style>\n<table border=\"1\" class=\"dataframe\">\n  <thead>\n    <tr style=\"text-align: right;\">\n      <th></th>\n      <th>Post Code</th>\n      <th>Latitude</th>\n      <th>Longitude</th>\n      <th>Geometry</th>\n    </tr>\n  </thead>\n  <tbody>\n  </tbody>\n</table>\n</div>",
                        "text/plain": "Empty DataFrame\nColumns: [Post Code, Latitude, Longitude, Geometry]\nIndex: []"
                    },
                    "execution_count": 375,
                    "metadata": {},
                    "output_type": "execute_result"
                }
            ],
            "source": "# define the dataframe columns\npost_names = ['Post Code', 'Latitude', 'Longitude','Geometry'] \n\n# instantiate the dataframe\npostdf = pd.DataFrame(columns=post_names)\npostdf"
        },
        {
            "cell_type": "markdown",
            "metadata": {},
            "source": "### Looping through the dataframe to extract the relevant information & sort the dataframe on Post Code"
        },
        {
            "cell_type": "code",
            "execution_count": 376,
            "metadata": {},
            "outputs": [
                {
                    "data": {
                        "text/html": "<div>\n<style scoped>\n    .dataframe tbody tr th:only-of-type {\n        vertical-align: middle;\n    }\n\n    .dataframe tbody tr th {\n        vertical-align: top;\n    }\n\n    .dataframe thead th {\n        text-align: right;\n    }\n</style>\n<table border=\"1\" class=\"dataframe\">\n  <thead>\n    <tr style=\"text-align: right;\">\n      <th></th>\n      <th>Post Code</th>\n      <th>Latitude</th>\n      <th>Longitude</th>\n      <th>Geometry</th>\n    </tr>\n  </thead>\n  <tbody>\n    <tr>\n      <th>0</th>\n      <td>52062</td>\n      <td>50.777065</td>\n      <td>6.086469</td>\n      <td>[[6.0746397, 50.778233399999976], [6.0755047, ...</td>\n    </tr>\n    <tr>\n      <th>1</th>\n      <td>52064</td>\n      <td>50.767342</td>\n      <td>6.078569</td>\n      <td>[[6.061015, 50.76446859999999], [6.0612398, 50...</td>\n    </tr>\n    <tr>\n      <th>2</th>\n      <td>52066</td>\n      <td>50.757600</td>\n      <td>6.104802</td>\n      <td>[[6.0720627, 50.75066249999998], [6.0732045, 5...</td>\n    </tr>\n    <tr>\n      <th>3</th>\n      <td>52068</td>\n      <td>50.779753</td>\n      <td>6.125916</td>\n      <td>[[6.1008512, 50.77993449999999], [6.103057, 50...</td>\n    </tr>\n    <tr>\n      <th>4</th>\n      <td>52070</td>\n      <td>50.793840</td>\n      <td>6.096248</td>\n      <td>[[6.0704272, 50.79009389999999], [6.0707235, 5...</td>\n    </tr>\n    <tr>\n      <th>5</th>\n      <td>52072</td>\n      <td>50.821910</td>\n      <td>6.049721</td>\n      <td>[[6.0159425, 50.83879619999998], [6.0189456, 5...</td>\n    </tr>\n    <tr>\n      <th>6</th>\n      <td>52074</td>\n      <td>50.773768</td>\n      <td>6.036342</td>\n      <td>[[5.9748624, 50.7980367], [5.974951, 50.798094...</td>\n    </tr>\n    <tr>\n      <th>7</th>\n      <td>52076</td>\n      <td>50.715195</td>\n      <td>6.149884</td>\n      <td>[[6.0592867, 50.740119599999986], [6.0617563, ...</td>\n    </tr>\n    <tr>\n      <th>8</th>\n      <td>52078</td>\n      <td>50.757029</td>\n      <td>6.161422</td>\n      <td>[[6.1172781, 50.7700921], [6.1174023, 50.77054...</td>\n    </tr>\n    <tr>\n      <th>9</th>\n      <td>52080</td>\n      <td>50.787902</td>\n      <td>6.159663</td>\n      <td>[[6.109553, 50.8024282], [6.1111558, 50.804500...</td>\n    </tr>\n  </tbody>\n</table>\n</div>",
                        "text/plain": "  Post Code   Latitude  Longitude  \\\n0     52062  50.777065   6.086469   \n1     52064  50.767342   6.078569   \n2     52066  50.757600   6.104802   \n3     52068  50.779753   6.125916   \n4     52070  50.793840   6.096248   \n5     52072  50.821910   6.049721   \n6     52074  50.773768   6.036342   \n7     52076  50.715195   6.149884   \n8     52078  50.757029   6.161422   \n9     52080  50.787902   6.159663   \n\n                                            Geometry  \n0  [[6.0746397, 50.778233399999976], [6.0755047, ...  \n1  [[6.061015, 50.76446859999999], [6.0612398, 50...  \n2  [[6.0720627, 50.75066249999998], [6.0732045, 5...  \n3  [[6.1008512, 50.77993449999999], [6.103057, 50...  \n4  [[6.0704272, 50.79009389999999], [6.0707235, 5...  \n5  [[6.0159425, 50.83879619999998], [6.0189456, 5...  \n6  [[5.9748624, 50.7980367], [5.974951, 50.798094...  \n7  [[6.0592867, 50.740119599999986], [6.0617563, ...  \n8  [[6.1172781, 50.7700921], [6.1174023, 50.77054...  \n9  [[6.109553, 50.8024282], [6.1111558, 50.804500...  "
                    },
                    "execution_count": 376,
                    "metadata": {},
                    "output_type": "execute_result"
                }
            ],
            "source": "r, c = postcodedf.shape\nfor i in range(r):\n    new_row = pd.Series(data={'Post Code': postcodedf['fields'][i]['plz'], 'Latitude': postcodedf['geometry'][i]['coordinates'][1], 'Longitude': postcodedf['geometry'][i]['coordinates'][0], 'Geometry': postcodedf['fields'][i]['geo_shape']['coordinates'][0]})\n    postdf = postdf.append(new_row, ignore_index=True)\n    #print(new_row)\n#postdf\npostdf_sorted = postdf.sort_values('Post Code')\npostdf_sorted.reset_index(drop = True)\npostdf_sorted.head()"
        },
        {
            "cell_type": "markdown",
            "metadata": {},
            "source": "### Combining the dataframes"
        },
        {
            "cell_type": "code",
            "execution_count": 377,
            "metadata": {},
            "outputs": [
                {
                    "data": {
                        "text/plain": "Post Code     int64\nDistrict     object\ndtype: object"
                    },
                    "execution_count": 377,
                    "metadata": {},
                    "output_type": "execute_result"
                }
            ],
            "source": "aachen_grouped.dtypes"
        },
        {
            "cell_type": "code",
            "execution_count": 378,
            "metadata": {},
            "outputs": [
                {
                    "data": {
                        "text/plain": "Post Code     object\nLatitude     float64\nLongitude    float64\nGeometry      object\ndtype: object"
                    },
                    "execution_count": 378,
                    "metadata": {},
                    "output_type": "execute_result"
                }
            ],
            "source": "postdf_sorted.dtypes"
        },
        {
            "cell_type": "markdown",
            "metadata": {},
            "source": "#### Here we can see that Post Code is stored in different datatypes, so I changed one to int64"
        },
        {
            "cell_type": "code",
            "execution_count": 379,
            "metadata": {},
            "outputs": [],
            "source": "postdf_sorted['Post Code'] = postdf_sorted['Post Code'].astype(int)"
        },
        {
            "cell_type": "markdown",
            "metadata": {},
            "source": "#### Merging the dataframes and renaming the districts without the prefix Aachen"
        },
        {
            "cell_type": "code",
            "execution_count": 380,
            "metadata": {
                "scrolled": true
            },
            "outputs": [
                {
                    "data": {
                        "text/html": "<div>\n<style scoped>\n    .dataframe tbody tr th:only-of-type {\n        vertical-align: middle;\n    }\n\n    .dataframe tbody tr th {\n        vertical-align: top;\n    }\n\n    .dataframe thead th {\n        text-align: right;\n    }\n</style>\n<table border=\"1\" class=\"dataframe\">\n  <thead>\n    <tr style=\"text-align: right;\">\n      <th></th>\n      <th>Post Code</th>\n      <th>District</th>\n      <th>Latitude</th>\n      <th>Longitude</th>\n      <th>Geometry</th>\n    </tr>\n  </thead>\n  <tbody>\n    <tr>\n      <th>0</th>\n      <td>52062</td>\n      <td>Center</td>\n      <td>50.777065</td>\n      <td>6.086469</td>\n      <td>[[6.0746397, 50.778233399999976], [6.0755047, ...</td>\n    </tr>\n    <tr>\n      <th>1</th>\n      <td>52064</td>\n      <td>Center</td>\n      <td>50.767342</td>\n      <td>6.078569</td>\n      <td>[[6.061015, 50.76446859999999], [6.0612398, 50...</td>\n    </tr>\n    <tr>\n      <th>2</th>\n      <td>52066</td>\n      <td>Center</td>\n      <td>50.757600</td>\n      <td>6.104802</td>\n      <td>[[6.0720627, 50.75066249999998], [6.0732045, 5...</td>\n    </tr>\n    <tr>\n      <th>3</th>\n      <td>52068</td>\n      <td>Haaren</td>\n      <td>50.779753</td>\n      <td>6.125916</td>\n      <td>[[6.1008512, 50.77993449999999], [6.103057, 50...</td>\n    </tr>\n    <tr>\n      <th>4</th>\n      <td>52070</td>\n      <td>Laurensberg</td>\n      <td>50.793840</td>\n      <td>6.096248</td>\n      <td>[[6.0704272, 50.79009389999999], [6.0707235, 5...</td>\n    </tr>\n    <tr>\n      <th>5</th>\n      <td>52072</td>\n      <td>Richterich</td>\n      <td>50.821910</td>\n      <td>6.049721</td>\n      <td>[[6.0159425, 50.83879619999998], [6.0189456, 5...</td>\n    </tr>\n    <tr>\n      <th>6</th>\n      <td>52074</td>\n      <td>Vaalserquartier</td>\n      <td>50.773768</td>\n      <td>6.036342</td>\n      <td>[[5.9748624, 50.7980367], [5.974951, 50.798094...</td>\n    </tr>\n    <tr>\n      <th>7</th>\n      <td>52076</td>\n      <td>Brand</td>\n      <td>50.715195</td>\n      <td>6.149884</td>\n      <td>[[6.0592867, 50.740119599999986], [6.0617563, ...</td>\n    </tr>\n    <tr>\n      <th>8</th>\n      <td>52078</td>\n      <td>Eilendorf</td>\n      <td>50.757029</td>\n      <td>6.161422</td>\n      <td>[[6.1172781, 50.7700921], [6.1174023, 50.77054...</td>\n    </tr>\n    <tr>\n      <th>9</th>\n      <td>52080</td>\n      <td>Verlautenheide</td>\n      <td>50.787902</td>\n      <td>6.159663</td>\n      <td>[[6.109553, 50.8024282], [6.1111558, 50.804500...</td>\n    </tr>\n  </tbody>\n</table>\n</div>",
                        "text/plain": "   Post Code         District   Latitude  Longitude  \\\n0      52062           Center  50.777065   6.086469   \n1      52064           Center  50.767342   6.078569   \n2      52066           Center  50.757600   6.104802   \n3      52068           Haaren  50.779753   6.125916   \n4      52070      Laurensberg  50.793840   6.096248   \n5      52072       Richterich  50.821910   6.049721   \n6      52074  Vaalserquartier  50.773768   6.036342   \n7      52076            Brand  50.715195   6.149884   \n8      52078        Eilendorf  50.757029   6.161422   \n9      52080   Verlautenheide  50.787902   6.159663   \n\n                                            Geometry  \n0  [[6.0746397, 50.778233399999976], [6.0755047, ...  \n1  [[6.061015, 50.76446859999999], [6.0612398, 50...  \n2  [[6.0720627, 50.75066249999998], [6.0732045, 5...  \n3  [[6.1008512, 50.77993449999999], [6.103057, 50...  \n4  [[6.0704272, 50.79009389999999], [6.0707235, 5...  \n5  [[6.0159425, 50.83879619999998], [6.0189456, 5...  \n6  [[5.9748624, 50.7980367], [5.974951, 50.798094...  \n7  [[6.0592867, 50.740119599999986], [6.0617563, ...  \n8  [[6.1172781, 50.7700921], [6.1174023, 50.77054...  \n9  [[6.109553, 50.8024282], [6.1111558, 50.804500...  "
                    },
                    "execution_count": 380,
                    "metadata": {},
                    "output_type": "execute_result"
                }
            ],
            "source": "aachendf = pd.merge(aachen_grouped,postdf_sorted)\naachendf['District'] = aachendf['District'].replace({\n    'Aachen Aachen': 'Center', 'Aachen Haaren': 'Haaren','Aachen Laurensberg': 'Laurensberg','Aachen Richterich': 'Richterich',\n    'Aachen Vaalserquartier': 'Vaalserquartier','Aachen Brand': 'Brand', 'Aachen Eilendorf': 'Eilendorf', 'Aachen Verlautenheide': 'Verlautenheide'})\naachendf.head()"
        },
        {
            "cell_type": "markdown",
            "metadata": {},
            "source": "### Search for rental fees of different districts"
        },
        {
            "cell_type": "code",
            "execution_count": 381,
            "metadata": {},
            "outputs": [
                {
                    "data": {
                        "text/html": "<div>\n<style scoped>\n    .dataframe tbody tr th:only-of-type {\n        vertical-align: middle;\n    }\n\n    .dataframe tbody tr th {\n        vertical-align: top;\n    }\n\n    .dataframe thead th {\n        text-align: right;\n    }\n</style>\n<table border=\"1\" class=\"dataframe\">\n  <thead>\n    <tr style=\"text-align: right;\">\n      <th></th>\n      <th>District</th>\n      <th>Charge</th>\n    </tr>\n  </thead>\n  <tbody>\n    <tr>\n      <th>0</th>\n      <td>Laurensberg</td>\n      <td>7,71 Euro</td>\n    </tr>\n    <tr>\n      <th>1</th>\n      <td>Center</td>\n      <td>7,68 Euro</td>\n    </tr>\n    <tr>\n      <th>2</th>\n      <td>Vaalserquartier</td>\n      <td>7,57 Euro</td>\n    </tr>\n    <tr>\n      <th>3</th>\n      <td>Richterich</td>\n      <td>6,93 Euro</td>\n    </tr>\n    <tr>\n      <th>4</th>\n      <td>Brand</td>\n      <td>6,84 Euro</td>\n    </tr>\n    <tr>\n      <th>5</th>\n      <td>Verlautenheide</td>\n      <td>6,67 Euro</td>\n    </tr>\n    <tr>\n      <th>6</th>\n      <td>Haaren</td>\n      <td>6,65 Euro</td>\n    </tr>\n    <tr>\n      <th>7</th>\n      <td>Eilendorf</td>\n      <td>6,61 Euro</td>\n    </tr>\n  </tbody>\n</table>\n</div>",
                        "text/plain": "          District     Charge\n0      Laurensberg  7,71 Euro\n1           Center  7,68 Euro\n2  Vaalserquartier  7,57 Euro\n3       Richterich  6,93 Euro\n4            Brand  6,84 Euro\n5   Verlautenheide  6,67 Euro\n6           Haaren  6,65 Euro\n7        Eilendorf  6,61 Euro"
                    },
                    "execution_count": 381,
                    "metadata": {},
                    "output_type": "execute_result"
                }
            ],
            "source": "rent_index_url = 'https://mietspiegeltabelle.de/mietspiegel-aachen/'\nrentpage = requests.get(rent_index_url)\nsoup = BeautifulSoup(rentpage.content, 'lxml')\n\nrenttable = soup.find_all('table')[0]\n#print(table.prettify())\n\nrenttable = pd.read_html(str(renttable))\nrent = pd.DataFrame(renttable[0])\nrent.columns = ['District','Charge']\nrent\n\n#Dropping irrelevant Districts, sorting for the most expensive and rename two entries to match the other dataframe\nrent.drop(rent.index[[0,2,3,5,6,8,9,10,11,12,14,15,17,18,21,22]], inplace = True)\nrent.reset_index(drop = True)\nrent['District'] = rent['District'].replace({'Vaalserquartier/Orsbach/Vetschau': 'Vaalserquartier', 'Zentrum': 'Center'})\nrent = rent.sort_values('Charge', ascending = False)\nrent.reset_index(drop = True)\nrent.head()"
        },
        {
            "cell_type": "markdown",
            "metadata": {},
            "source": "#### Here we can see that Laurensberg and Center are the most expensive places to rent"
        },
        {
            "cell_type": "markdown",
            "metadata": {},
            "source": "### Merging the dataframes together into one table"
        },
        {
            "cell_type": "code",
            "execution_count": 382,
            "metadata": {
                "scrolled": true
            },
            "outputs": [
                {
                    "data": {
                        "text/html": "<div>\n<style scoped>\n    .dataframe tbody tr th:only-of-type {\n        vertical-align: middle;\n    }\n\n    .dataframe tbody tr th {\n        vertical-align: top;\n    }\n\n    .dataframe thead th {\n        text-align: right;\n    }\n</style>\n<table border=\"1\" class=\"dataframe\">\n  <thead>\n    <tr style=\"text-align: right;\">\n      <th></th>\n      <th>Post Code</th>\n      <th>District</th>\n      <th>Latitude</th>\n      <th>Longitude</th>\n      <th>Geometry</th>\n      <th>Charge</th>\n    </tr>\n  </thead>\n  <tbody>\n    <tr>\n      <th>0</th>\n      <td>52062</td>\n      <td>Center</td>\n      <td>50.777065</td>\n      <td>6.086469</td>\n      <td>[[6.0746397, 50.778233399999976], [6.0755047, ...</td>\n      <td>7,68 Euro</td>\n    </tr>\n    <tr>\n      <th>1</th>\n      <td>52064</td>\n      <td>Center</td>\n      <td>50.767342</td>\n      <td>6.078569</td>\n      <td>[[6.061015, 50.76446859999999], [6.0612398, 50...</td>\n      <td>7,68 Euro</td>\n    </tr>\n    <tr>\n      <th>2</th>\n      <td>52066</td>\n      <td>Center</td>\n      <td>50.757600</td>\n      <td>6.104802</td>\n      <td>[[6.0720627, 50.75066249999998], [6.0732045, 5...</td>\n      <td>7,68 Euro</td>\n    </tr>\n    <tr>\n      <th>3</th>\n      <td>52068</td>\n      <td>Haaren</td>\n      <td>50.779753</td>\n      <td>6.125916</td>\n      <td>[[6.1008512, 50.77993449999999], [6.103057, 50...</td>\n      <td>6,65 Euro</td>\n    </tr>\n    <tr>\n      <th>4</th>\n      <td>52070</td>\n      <td>Laurensberg</td>\n      <td>50.793840</td>\n      <td>6.096248</td>\n      <td>[[6.0704272, 50.79009389999999], [6.0707235, 5...</td>\n      <td>7,71 Euro</td>\n    </tr>\n    <tr>\n      <th>5</th>\n      <td>52072</td>\n      <td>Richterich</td>\n      <td>50.821910</td>\n      <td>6.049721</td>\n      <td>[[6.0159425, 50.83879619999998], [6.0189456, 5...</td>\n      <td>6,93 Euro</td>\n    </tr>\n    <tr>\n      <th>6</th>\n      <td>52074</td>\n      <td>Vaalserquartier</td>\n      <td>50.773768</td>\n      <td>6.036342</td>\n      <td>[[5.9748624, 50.7980367], [5.974951, 50.798094...</td>\n      <td>7,57 Euro</td>\n    </tr>\n    <tr>\n      <th>7</th>\n      <td>52076</td>\n      <td>Brand</td>\n      <td>50.715195</td>\n      <td>6.149884</td>\n      <td>[[6.0592867, 50.740119599999986], [6.0617563, ...</td>\n      <td>6,84 Euro</td>\n    </tr>\n    <tr>\n      <th>8</th>\n      <td>52078</td>\n      <td>Eilendorf</td>\n      <td>50.757029</td>\n      <td>6.161422</td>\n      <td>[[6.1172781, 50.7700921], [6.1174023, 50.77054...</td>\n      <td>6,61 Euro</td>\n    </tr>\n    <tr>\n      <th>9</th>\n      <td>52080</td>\n      <td>Verlautenheide</td>\n      <td>50.787902</td>\n      <td>6.159663</td>\n      <td>[[6.109553, 50.8024282], [6.1111558, 50.804500...</td>\n      <td>6,67 Euro</td>\n    </tr>\n  </tbody>\n</table>\n</div>",
                        "text/plain": "   Post Code         District   Latitude  Longitude  \\\n0      52062           Center  50.777065   6.086469   \n1      52064           Center  50.767342   6.078569   \n2      52066           Center  50.757600   6.104802   \n3      52068           Haaren  50.779753   6.125916   \n4      52070      Laurensberg  50.793840   6.096248   \n5      52072       Richterich  50.821910   6.049721   \n6      52074  Vaalserquartier  50.773768   6.036342   \n7      52076            Brand  50.715195   6.149884   \n8      52078        Eilendorf  50.757029   6.161422   \n9      52080   Verlautenheide  50.787902   6.159663   \n\n                                            Geometry     Charge  \n0  [[6.0746397, 50.778233399999976], [6.0755047, ...  7,68 Euro  \n1  [[6.061015, 50.76446859999999], [6.0612398, 50...  7,68 Euro  \n2  [[6.0720627, 50.75066249999998], [6.0732045, 5...  7,68 Euro  \n3  [[6.1008512, 50.77993449999999], [6.103057, 50...  6,65 Euro  \n4  [[6.0704272, 50.79009389999999], [6.0707235, 5...  7,71 Euro  \n5  [[6.0159425, 50.83879619999998], [6.0189456, 5...  6,93 Euro  \n6  [[5.9748624, 50.7980367], [5.974951, 50.798094...  7,57 Euro  \n7  [[6.0592867, 50.740119599999986], [6.0617563, ...  6,84 Euro  \n8  [[6.1172781, 50.7700921], [6.1174023, 50.77054...  6,61 Euro  \n9  [[6.109553, 50.8024282], [6.1111558, 50.804500...  6,67 Euro  "
                    },
                    "execution_count": 382,
                    "metadata": {},
                    "output_type": "execute_result"
                }
            ],
            "source": "aachen_df = pd.merge(aachendf,rent, on = 'District')\naachen_df.head()"
        },
        {
            "cell_type": "markdown",
            "metadata": {},
            "source": "#### Load the unchanged geodata "
        },
        {
            "cell_type": "code",
            "execution_count": 383,
            "metadata": {},
            "outputs": [
                {
                    "name": "stdout",
                    "output_type": "stream",
                    "text": "GeoJSON file downloaded\n"
                }
            ],
            "source": "#de_geodata = 'https://public.opendatasoft.com/explore/dataset/postleitzahlen-deutschland/download/?format=geojson&timezone=Europe/Berlin&lang=en'\n#de_geodatadf = pd.read_json(de_geodata)\nac_geodata = 'https://public.opendatasoft.com/explore/dataset/postleitzahlen-deutschland/download/?format=geojson&refine.note=Aachen&timezone=Europe/Berlin&lang=en'\nac_geodatadf = pd.read_json(ac_geodata)\nprint('GeoJSON file downloaded')"
        },
        {
            "cell_type": "markdown",
            "metadata": {},
            "source": "#### Here i tried to display a choropleth map with the different districts colored in the rental rates, but I could not get the code to run\n#### It seems like the file/dataframe does not have the right format"
        },
        {
            "cell_type": "markdown",
            "metadata": {},
            "source": "map_of_aachen = folium.Map(location=[latitude, longitude], zoom_start=12.5)\n\n\nmap_of_aachen.choropleth(\n    geo_data=de_geodata,\n    data=aachen_df,\n    columns=['District', 'Charge'],\n    key_on='feature.plz',\n    fill_color='BuPu',\n    fill_opacity=0.7,\n    line_opacity=0.5,\n    legend_name='Rental Fee',\n    )\n"
        },
        {
            "cell_type": "markdown",
            "metadata": {},
            "source": "#### so I tried to use geopandas insted"
        },
        {
            "cell_type": "code",
            "execution_count": 385,
            "metadata": {},
            "outputs": [
                {
                    "data": {
                        "text/html": "<div>\n<style scoped>\n    .dataframe tbody tr th:only-of-type {\n        vertical-align: middle;\n    }\n\n    .dataframe tbody tr th {\n        vertical-align: top;\n    }\n\n    .dataframe thead th {\n        text-align: right;\n    }\n</style>\n<table border=\"1\" class=\"dataframe\">\n  <thead>\n    <tr style=\"text-align: right;\">\n      <th></th>\n      <th>Post Code</th>\n      <th>Geometrics</th>\n    </tr>\n  </thead>\n  <tbody>\n    <tr>\n      <th>0</th>\n      <td>52068</td>\n      <td>POLYGON ((6.10085 50.77993, 6.10306 50.78093, ...</td>\n    </tr>\n    <tr>\n      <th>1</th>\n      <td>52076</td>\n      <td>POLYGON ((6.05929 50.74012, 6.06176 50.74306, ...</td>\n    </tr>\n    <tr>\n      <th>2</th>\n      <td>52062</td>\n      <td>POLYGON ((6.07464 50.77823, 6.07550 50.78034, ...</td>\n    </tr>\n    <tr>\n      <th>3</th>\n      <td>52072</td>\n      <td>POLYGON ((6.01594 50.83880, 6.01895 50.84626, ...</td>\n    </tr>\n    <tr>\n      <th>4</th>\n      <td>52078</td>\n      <td>POLYGON ((6.11728 50.77009, 6.11740 50.77055, ...</td>\n    </tr>\n    <tr>\n      <th>5</th>\n      <td>52064</td>\n      <td>POLYGON ((6.06102 50.76447, 6.06124 50.76580, ...</td>\n    </tr>\n    <tr>\n      <th>6</th>\n      <td>52074</td>\n      <td>POLYGON ((5.97486 50.79804, 5.97495 50.79809, ...</td>\n    </tr>\n    <tr>\n      <th>7</th>\n      <td>52070</td>\n      <td>POLYGON ((6.07043 50.79009, 6.07072 50.79083, ...</td>\n    </tr>\n    <tr>\n      <th>8</th>\n      <td>52080</td>\n      <td>POLYGON ((6.10955 50.80243, 6.11116 50.80450, ...</td>\n    </tr>\n    <tr>\n      <th>9</th>\n      <td>52066</td>\n      <td>POLYGON ((6.07206 50.75066, 6.07320 50.75121, ...</td>\n    </tr>\n  </tbody>\n</table>\n</div>",
                        "text/plain": "  Post Code                                         Geometrics\n0     52068  POLYGON ((6.10085 50.77993, 6.10306 50.78093, ...\n1     52076  POLYGON ((6.05929 50.74012, 6.06176 50.74306, ...\n2     52062  POLYGON ((6.07464 50.77823, 6.07550 50.78034, ...\n3     52072  POLYGON ((6.01594 50.83880, 6.01895 50.84626, ...\n4     52078  POLYGON ((6.11728 50.77009, 6.11740 50.77055, ...\n5     52064  POLYGON ((6.06102 50.76447, 6.06124 50.76580, ...\n6     52074  POLYGON ((5.97486 50.79804, 5.97495 50.79809, ...\n7     52070  POLYGON ((6.07043 50.79009, 6.07072 50.79083, ...\n8     52080  POLYGON ((6.10955 50.80243, 6.11116 50.80450, ...\n9     52066  POLYGON ((6.07206 50.75066, 6.07320 50.75121, ..."
                    },
                    "execution_count": 385,
                    "metadata": {},
                    "output_type": "execute_result"
                }
            ],
            "source": "# Load dataframe and rename column\naachengeodata = gpd.read_file(ac_geodata)\naachengeodata = aachengeodata.drop(columns = ['note'], axis = 1)\naachengeodata.columns = ['Post Code', 'Geometrics']\naachengeodata.head()"
        },
        {
            "cell_type": "markdown",
            "metadata": {},
            "source": "#### Some datatypes do not align up"
        },
        {
            "cell_type": "code",
            "execution_count": 386,
            "metadata": {},
            "outputs": [
                {
                    "data": {
                        "text/plain": "Post Code       object\nGeometrics    geometry\ndtype: object"
                    },
                    "execution_count": 386,
                    "metadata": {},
                    "output_type": "execute_result"
                }
            ],
            "source": "aachengeodata.dtypes"
        },
        {
            "cell_type": "code",
            "execution_count": 387,
            "metadata": {},
            "outputs": [
                {
                    "data": {
                        "text/plain": "Post Code      int64\nDistrict      object\nLatitude     float64\nLongitude    float64\nGeometry      object\nCharge        object\ndtype: object"
                    },
                    "execution_count": 387,
                    "metadata": {},
                    "output_type": "execute_result"
                }
            ],
            "source": "aachen_df.dtypes"
        },
        {
            "cell_type": "code",
            "execution_count": 388,
            "metadata": {},
            "outputs": [],
            "source": "aachen_df['Post Code'] = aachen_df['Post Code'].astype(str)\naachengeodata = aachengeodata.sort_values('Post Code')\naachengeodata = aachengeodata.reset_index(drop = True)"
        },
        {
            "cell_type": "code",
            "execution_count": 389,
            "metadata": {},
            "outputs": [
                {
                    "data": {
                        "text/html": "<div>\n<style scoped>\n    .dataframe tbody tr th:only-of-type {\n        vertical-align: middle;\n    }\n\n    .dataframe tbody tr th {\n        vertical-align: top;\n    }\n\n    .dataframe thead th {\n        text-align: right;\n    }\n</style>\n<table border=\"1\" class=\"dataframe\">\n  <thead>\n    <tr style=\"text-align: right;\">\n      <th></th>\n      <th>Post Code</th>\n      <th>Geometrics</th>\n    </tr>\n  </thead>\n  <tbody>\n    <tr>\n      <th>0</th>\n      <td>52062</td>\n      <td>POLYGON ((6.07464 50.77823, 6.07550 50.78034, ...</td>\n    </tr>\n    <tr>\n      <th>1</th>\n      <td>52064</td>\n      <td>POLYGON ((6.06102 50.76447, 6.06124 50.76580, ...</td>\n    </tr>\n    <tr>\n      <th>2</th>\n      <td>52066</td>\n      <td>POLYGON ((6.07206 50.75066, 6.07320 50.75121, ...</td>\n    </tr>\n    <tr>\n      <th>3</th>\n      <td>52068</td>\n      <td>POLYGON ((6.10085 50.77993, 6.10306 50.78093, ...</td>\n    </tr>\n    <tr>\n      <th>4</th>\n      <td>52070</td>\n      <td>POLYGON ((6.07043 50.79009, 6.07072 50.79083, ...</td>\n    </tr>\n    <tr>\n      <th>5</th>\n      <td>52072</td>\n      <td>POLYGON ((6.01594 50.83880, 6.01895 50.84626, ...</td>\n    </tr>\n    <tr>\n      <th>6</th>\n      <td>52074</td>\n      <td>POLYGON ((5.97486 50.79804, 5.97495 50.79809, ...</td>\n    </tr>\n    <tr>\n      <th>7</th>\n      <td>52076</td>\n      <td>POLYGON ((6.05929 50.74012, 6.06176 50.74306, ...</td>\n    </tr>\n    <tr>\n      <th>8</th>\n      <td>52078</td>\n      <td>POLYGON ((6.11728 50.77009, 6.11740 50.77055, ...</td>\n    </tr>\n    <tr>\n      <th>9</th>\n      <td>52080</td>\n      <td>POLYGON ((6.10955 50.80243, 6.11116 50.80450, ...</td>\n    </tr>\n  </tbody>\n</table>\n</div>",
                        "text/plain": "  Post Code                                         Geometrics\n0     52062  POLYGON ((6.07464 50.77823, 6.07550 50.78034, ...\n1     52064  POLYGON ((6.06102 50.76447, 6.06124 50.76580, ...\n2     52066  POLYGON ((6.07206 50.75066, 6.07320 50.75121, ...\n3     52068  POLYGON ((6.10085 50.77993, 6.10306 50.78093, ...\n4     52070  POLYGON ((6.07043 50.79009, 6.07072 50.79083, ...\n5     52072  POLYGON ((6.01594 50.83880, 6.01895 50.84626, ...\n6     52074  POLYGON ((5.97486 50.79804, 5.97495 50.79809, ...\n7     52076  POLYGON ((6.05929 50.74012, 6.06176 50.74306, ...\n8     52078  POLYGON ((6.11728 50.77009, 6.11740 50.77055, ...\n9     52080  POLYGON ((6.10955 50.80243, 6.11116 50.80450, ..."
                    },
                    "execution_count": 389,
                    "metadata": {},
                    "output_type": "execute_result"
                }
            ],
            "source": "aachengeodata.head()"
        },
        {
            "cell_type": "code",
            "execution_count": 390,
            "metadata": {},
            "outputs": [
                {
                    "data": {
                        "text/html": "<div>\n<style scoped>\n    .dataframe tbody tr th:only-of-type {\n        vertical-align: middle;\n    }\n\n    .dataframe tbody tr th {\n        vertical-align: top;\n    }\n\n    .dataframe thead th {\n        text-align: right;\n    }\n</style>\n<table border=\"1\" class=\"dataframe\">\n  <thead>\n    <tr style=\"text-align: right;\">\n      <th></th>\n      <th>Post Code</th>\n      <th>District</th>\n      <th>Latitude</th>\n      <th>Longitude</th>\n      <th>Geometry</th>\n      <th>Charge</th>\n    </tr>\n  </thead>\n  <tbody>\n    <tr>\n      <th>0</th>\n      <td>52062</td>\n      <td>Center</td>\n      <td>50.777065</td>\n      <td>6.086469</td>\n      <td>[[6.0746397, 50.778233399999976], [6.0755047, ...</td>\n      <td>7,68 Euro</td>\n    </tr>\n    <tr>\n      <th>1</th>\n      <td>52064</td>\n      <td>Center</td>\n      <td>50.767342</td>\n      <td>6.078569</td>\n      <td>[[6.061015, 50.76446859999999], [6.0612398, 50...</td>\n      <td>7,68 Euro</td>\n    </tr>\n    <tr>\n      <th>2</th>\n      <td>52066</td>\n      <td>Center</td>\n      <td>50.757600</td>\n      <td>6.104802</td>\n      <td>[[6.0720627, 50.75066249999998], [6.0732045, 5...</td>\n      <td>7,68 Euro</td>\n    </tr>\n    <tr>\n      <th>3</th>\n      <td>52068</td>\n      <td>Haaren</td>\n      <td>50.779753</td>\n      <td>6.125916</td>\n      <td>[[6.1008512, 50.77993449999999], [6.103057, 50...</td>\n      <td>6,65 Euro</td>\n    </tr>\n    <tr>\n      <th>4</th>\n      <td>52070</td>\n      <td>Laurensberg</td>\n      <td>50.793840</td>\n      <td>6.096248</td>\n      <td>[[6.0704272, 50.79009389999999], [6.0707235, 5...</td>\n      <td>7,71 Euro</td>\n    </tr>\n    <tr>\n      <th>5</th>\n      <td>52072</td>\n      <td>Richterich</td>\n      <td>50.821910</td>\n      <td>6.049721</td>\n      <td>[[6.0159425, 50.83879619999998], [6.0189456, 5...</td>\n      <td>6,93 Euro</td>\n    </tr>\n    <tr>\n      <th>6</th>\n      <td>52074</td>\n      <td>Vaalserquartier</td>\n      <td>50.773768</td>\n      <td>6.036342</td>\n      <td>[[5.9748624, 50.7980367], [5.974951, 50.798094...</td>\n      <td>7,57 Euro</td>\n    </tr>\n    <tr>\n      <th>7</th>\n      <td>52076</td>\n      <td>Brand</td>\n      <td>50.715195</td>\n      <td>6.149884</td>\n      <td>[[6.0592867, 50.740119599999986], [6.0617563, ...</td>\n      <td>6,84 Euro</td>\n    </tr>\n    <tr>\n      <th>8</th>\n      <td>52078</td>\n      <td>Eilendorf</td>\n      <td>50.757029</td>\n      <td>6.161422</td>\n      <td>[[6.1172781, 50.7700921], [6.1174023, 50.77054...</td>\n      <td>6,61 Euro</td>\n    </tr>\n    <tr>\n      <th>9</th>\n      <td>52080</td>\n      <td>Verlautenheide</td>\n      <td>50.787902</td>\n      <td>6.159663</td>\n      <td>[[6.109553, 50.8024282], [6.1111558, 50.804500...</td>\n      <td>6,67 Euro</td>\n    </tr>\n  </tbody>\n</table>\n</div>",
                        "text/plain": "  Post Code         District   Latitude  Longitude  \\\n0     52062           Center  50.777065   6.086469   \n1     52064           Center  50.767342   6.078569   \n2     52066           Center  50.757600   6.104802   \n3     52068           Haaren  50.779753   6.125916   \n4     52070      Laurensberg  50.793840   6.096248   \n5     52072       Richterich  50.821910   6.049721   \n6     52074  Vaalserquartier  50.773768   6.036342   \n7     52076            Brand  50.715195   6.149884   \n8     52078        Eilendorf  50.757029   6.161422   \n9     52080   Verlautenheide  50.787902   6.159663   \n\n                                            Geometry     Charge  \n0  [[6.0746397, 50.778233399999976], [6.0755047, ...  7,68 Euro  \n1  [[6.061015, 50.76446859999999], [6.0612398, 50...  7,68 Euro  \n2  [[6.0720627, 50.75066249999998], [6.0732045, 5...  7,68 Euro  \n3  [[6.1008512, 50.77993449999999], [6.103057, 50...  6,65 Euro  \n4  [[6.0704272, 50.79009389999999], [6.0707235, 5...  7,71 Euro  \n5  [[6.0159425, 50.83879619999998], [6.0189456, 5...  6,93 Euro  \n6  [[5.9748624, 50.7980367], [5.974951, 50.798094...  7,57 Euro  \n7  [[6.0592867, 50.740119599999986], [6.0617563, ...  6,84 Euro  \n8  [[6.1172781, 50.7700921], [6.1174023, 50.77054...  6,61 Euro  \n9  [[6.109553, 50.8024282], [6.1111558, 50.804500...  6,67 Euro  "
                    },
                    "execution_count": 390,
                    "metadata": {},
                    "output_type": "execute_result"
                }
            ],
            "source": "aachen_df.head()"
        },
        {
            "cell_type": "markdown",
            "metadata": {},
            "source": "#### Now combining to the final dataframe"
        },
        {
            "cell_type": "code",
            "execution_count": 391,
            "metadata": {},
            "outputs": [
                {
                    "data": {
                        "text/html": "<div>\n<style scoped>\n    .dataframe tbody tr th:only-of-type {\n        vertical-align: middle;\n    }\n\n    .dataframe tbody tr th {\n        vertical-align: top;\n    }\n\n    .dataframe thead th {\n        text-align: right;\n    }\n</style>\n<table border=\"1\" class=\"dataframe\">\n  <thead>\n    <tr style=\"text-align: right;\">\n      <th></th>\n      <th>Post Code</th>\n      <th>District</th>\n      <th>Latitude</th>\n      <th>Longitude</th>\n      <th>Geometry</th>\n      <th>Charge</th>\n      <th>Geometrics</th>\n    </tr>\n  </thead>\n  <tbody>\n    <tr>\n      <th>0</th>\n      <td>52062</td>\n      <td>Center</td>\n      <td>50.777065</td>\n      <td>6.086469</td>\n      <td>[[6.0746397, 50.778233399999976], [6.0755047, ...</td>\n      <td>7,68 Euro</td>\n      <td>POLYGON ((6.07464 50.77823, 6.07550 50.78034, ...</td>\n    </tr>\n    <tr>\n      <th>1</th>\n      <td>52064</td>\n      <td>Center</td>\n      <td>50.767342</td>\n      <td>6.078569</td>\n      <td>[[6.061015, 50.76446859999999], [6.0612398, 50...</td>\n      <td>7,68 Euro</td>\n      <td>POLYGON ((6.06102 50.76447, 6.06124 50.76580, ...</td>\n    </tr>\n    <tr>\n      <th>2</th>\n      <td>52066</td>\n      <td>Center</td>\n      <td>50.757600</td>\n      <td>6.104802</td>\n      <td>[[6.0720627, 50.75066249999998], [6.0732045, 5...</td>\n      <td>7,68 Euro</td>\n      <td>POLYGON ((6.07206 50.75066, 6.07320 50.75121, ...</td>\n    </tr>\n    <tr>\n      <th>3</th>\n      <td>52068</td>\n      <td>Haaren</td>\n      <td>50.779753</td>\n      <td>6.125916</td>\n      <td>[[6.1008512, 50.77993449999999], [6.103057, 50...</td>\n      <td>6,65 Euro</td>\n      <td>POLYGON ((6.10085 50.77993, 6.10306 50.78093, ...</td>\n    </tr>\n    <tr>\n      <th>4</th>\n      <td>52070</td>\n      <td>Laurensberg</td>\n      <td>50.793840</td>\n      <td>6.096248</td>\n      <td>[[6.0704272, 50.79009389999999], [6.0707235, 5...</td>\n      <td>7,71 Euro</td>\n      <td>POLYGON ((6.07043 50.79009, 6.07072 50.79083, ...</td>\n    </tr>\n    <tr>\n      <th>5</th>\n      <td>52072</td>\n      <td>Richterich</td>\n      <td>50.821910</td>\n      <td>6.049721</td>\n      <td>[[6.0159425, 50.83879619999998], [6.0189456, 5...</td>\n      <td>6,93 Euro</td>\n      <td>POLYGON ((6.01594 50.83880, 6.01895 50.84626, ...</td>\n    </tr>\n    <tr>\n      <th>6</th>\n      <td>52074</td>\n      <td>Vaalserquartier</td>\n      <td>50.773768</td>\n      <td>6.036342</td>\n      <td>[[5.9748624, 50.7980367], [5.974951, 50.798094...</td>\n      <td>7,57 Euro</td>\n      <td>POLYGON ((5.97486 50.79804, 5.97495 50.79809, ...</td>\n    </tr>\n    <tr>\n      <th>7</th>\n      <td>52076</td>\n      <td>Brand</td>\n      <td>50.715195</td>\n      <td>6.149884</td>\n      <td>[[6.0592867, 50.740119599999986], [6.0617563, ...</td>\n      <td>6,84 Euro</td>\n      <td>POLYGON ((6.05929 50.74012, 6.06176 50.74306, ...</td>\n    </tr>\n    <tr>\n      <th>8</th>\n      <td>52078</td>\n      <td>Eilendorf</td>\n      <td>50.757029</td>\n      <td>6.161422</td>\n      <td>[[6.1172781, 50.7700921], [6.1174023, 50.77054...</td>\n      <td>6,61 Euro</td>\n      <td>POLYGON ((6.11728 50.77009, 6.11740 50.77055, ...</td>\n    </tr>\n    <tr>\n      <th>9</th>\n      <td>52080</td>\n      <td>Verlautenheide</td>\n      <td>50.787902</td>\n      <td>6.159663</td>\n      <td>[[6.109553, 50.8024282], [6.1111558, 50.804500...</td>\n      <td>6,67 Euro</td>\n      <td>POLYGON ((6.10955 50.80243, 6.11116 50.80450, ...</td>\n    </tr>\n  </tbody>\n</table>\n</div>",
                        "text/plain": "  Post Code         District   Latitude  Longitude  \\\n0     52062           Center  50.777065   6.086469   \n1     52064           Center  50.767342   6.078569   \n2     52066           Center  50.757600   6.104802   \n3     52068           Haaren  50.779753   6.125916   \n4     52070      Laurensberg  50.793840   6.096248   \n5     52072       Richterich  50.821910   6.049721   \n6     52074  Vaalserquartier  50.773768   6.036342   \n7     52076            Brand  50.715195   6.149884   \n8     52078        Eilendorf  50.757029   6.161422   \n9     52080   Verlautenheide  50.787902   6.159663   \n\n                                            Geometry     Charge  \\\n0  [[6.0746397, 50.778233399999976], [6.0755047, ...  7,68 Euro   \n1  [[6.061015, 50.76446859999999], [6.0612398, 50...  7,68 Euro   \n2  [[6.0720627, 50.75066249999998], [6.0732045, 5...  7,68 Euro   \n3  [[6.1008512, 50.77993449999999], [6.103057, 50...  6,65 Euro   \n4  [[6.0704272, 50.79009389999999], [6.0707235, 5...  7,71 Euro   \n5  [[6.0159425, 50.83879619999998], [6.0189456, 5...  6,93 Euro   \n6  [[5.9748624, 50.7980367], [5.974951, 50.798094...  7,57 Euro   \n7  [[6.0592867, 50.740119599999986], [6.0617563, ...  6,84 Euro   \n8  [[6.1172781, 50.7700921], [6.1174023, 50.77054...  6,61 Euro   \n9  [[6.109553, 50.8024282], [6.1111558, 50.804500...  6,67 Euro   \n\n                                          Geometrics  \n0  POLYGON ((6.07464 50.77823, 6.07550 50.78034, ...  \n1  POLYGON ((6.06102 50.76447, 6.06124 50.76580, ...  \n2  POLYGON ((6.07206 50.75066, 6.07320 50.75121, ...  \n3  POLYGON ((6.10085 50.77993, 6.10306 50.78093, ...  \n4  POLYGON ((6.07043 50.79009, 6.07072 50.79083, ...  \n5  POLYGON ((6.01594 50.83880, 6.01895 50.84626, ...  \n6  POLYGON ((5.97486 50.79804, 5.97495 50.79809, ...  \n7  POLYGON ((6.05929 50.74012, 6.06176 50.74306, ...  \n8  POLYGON ((6.11728 50.77009, 6.11740 50.77055, ...  \n9  POLYGON ((6.10955 50.80243, 6.11116 50.80450, ...  "
                    },
                    "execution_count": 391,
                    "metadata": {},
                    "output_type": "execute_result"
                }
            ],
            "source": "acdata = pd.merge(aachen_df, aachengeodata)#, on='Post Code')\nacdata.head()"
        },
        {
            "cell_type": "code",
            "execution_count": 392,
            "metadata": {},
            "outputs": [
                {
                    "data": {
                        "text/html": "<div style=\"width:100%;\"><div style=\"position:relative;width:100%;height:0;padding-bottom:60%;\"><iframe src=\"about:blank\" style=\"position:absolute;width:100%;height:100%;left:0;top:0;border:none !important;\" data-html=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 onload=\"this.contentDocument.open();this.contentDocument.write(atob(this.getAttribute('data-html')));this.contentDocument.close();\" allowfullscreen webkitallowfullscreen mozallowfullscreen></iframe></div></div>",
                        "text/plain": "<folium.folium.Map at 0x7f4542a302e8>"
                    },
                    "execution_count": 392,
                    "metadata": {},
                    "output_type": "execute_result"
                }
            ],
            "source": "map_of_aachen = folium.Map(location=[latitude, longitude], zoom_start=12.5)\nfolium.TileLayer('CartoDB positron',name=\"Light Map\",control=False).add_to(map_of_aachen)"
        },
        {
            "cell_type": "code",
            "execution_count": 393,
            "metadata": {},
            "outputs": [],
            "source": "acdata['Post Code'] = acdata['Post Code'].astype(int)\n\n#Here is the Problem: After the amount the String \"Euro\" is blocking the calculation\nacdata['Charge'] = acdata['Charge'].str.replace(' Euro', '')"
        },
        {
            "cell_type": "code",
            "execution_count": 394,
            "metadata": {},
            "outputs": [
                {
                    "data": {
                        "text/html": "<div>\n<style scoped>\n    .dataframe tbody tr th:only-of-type {\n        vertical-align: middle;\n    }\n\n    .dataframe tbody tr th {\n        vertical-align: top;\n    }\n\n    .dataframe thead th {\n        text-align: right;\n    }\n</style>\n<table border=\"1\" class=\"dataframe\">\n  <thead>\n    <tr style=\"text-align: right;\">\n      <th></th>\n      <th>Post Code</th>\n      <th>District</th>\n      <th>Latitude</th>\n      <th>Longitude</th>\n      <th>Geometry</th>\n      <th>Charge</th>\n      <th>Geometrics</th>\n    </tr>\n  </thead>\n  <tbody>\n    <tr>\n      <th>0</th>\n      <td>52062</td>\n      <td>Center</td>\n      <td>50.777065</td>\n      <td>6.086469</td>\n      <td>[[6.0746397, 50.778233399999976], [6.0755047, ...</td>\n      <td>7,68</td>\n      <td>POLYGON ((6.07464 50.77823, 6.07550 50.78034, ...</td>\n    </tr>\n    <tr>\n      <th>1</th>\n      <td>52064</td>\n      <td>Center</td>\n      <td>50.767342</td>\n      <td>6.078569</td>\n      <td>[[6.061015, 50.76446859999999], [6.0612398, 50...</td>\n      <td>7,68</td>\n      <td>POLYGON ((6.06102 50.76447, 6.06124 50.76580, ...</td>\n    </tr>\n    <tr>\n      <th>2</th>\n      <td>52066</td>\n      <td>Center</td>\n      <td>50.757600</td>\n      <td>6.104802</td>\n      <td>[[6.0720627, 50.75066249999998], [6.0732045, 5...</td>\n      <td>7,68</td>\n      <td>POLYGON ((6.07206 50.75066, 6.07320 50.75121, ...</td>\n    </tr>\n    <tr>\n      <th>3</th>\n      <td>52068</td>\n      <td>Haaren</td>\n      <td>50.779753</td>\n      <td>6.125916</td>\n      <td>[[6.1008512, 50.77993449999999], [6.103057, 50...</td>\n      <td>6,65</td>\n      <td>POLYGON ((6.10085 50.77993, 6.10306 50.78093, ...</td>\n    </tr>\n    <tr>\n      <th>4</th>\n      <td>52070</td>\n      <td>Laurensberg</td>\n      <td>50.793840</td>\n      <td>6.096248</td>\n      <td>[[6.0704272, 50.79009389999999], [6.0707235, 5...</td>\n      <td>7,71</td>\n      <td>POLYGON ((6.07043 50.79009, 6.07072 50.79083, ...</td>\n    </tr>\n    <tr>\n      <th>5</th>\n      <td>52072</td>\n      <td>Richterich</td>\n      <td>50.821910</td>\n      <td>6.049721</td>\n      <td>[[6.0159425, 50.83879619999998], [6.0189456, 5...</td>\n      <td>6,93</td>\n      <td>POLYGON ((6.01594 50.83880, 6.01895 50.84626, ...</td>\n    </tr>\n    <tr>\n      <th>6</th>\n      <td>52074</td>\n      <td>Vaalserquartier</td>\n      <td>50.773768</td>\n      <td>6.036342</td>\n      <td>[[5.9748624, 50.7980367], [5.974951, 50.798094...</td>\n      <td>7,57</td>\n      <td>POLYGON ((5.97486 50.79804, 5.97495 50.79809, ...</td>\n    </tr>\n    <tr>\n      <th>7</th>\n      <td>52076</td>\n      <td>Brand</td>\n      <td>50.715195</td>\n      <td>6.149884</td>\n      <td>[[6.0592867, 50.740119599999986], [6.0617563, ...</td>\n      <td>6,84</td>\n      <td>POLYGON ((6.05929 50.74012, 6.06176 50.74306, ...</td>\n    </tr>\n    <tr>\n      <th>8</th>\n      <td>52078</td>\n      <td>Eilendorf</td>\n      <td>50.757029</td>\n      <td>6.161422</td>\n      <td>[[6.1172781, 50.7700921], [6.1174023, 50.77054...</td>\n      <td>6,61</td>\n      <td>POLYGON ((6.11728 50.77009, 6.11740 50.77055, ...</td>\n    </tr>\n    <tr>\n      <th>9</th>\n      <td>52080</td>\n      <td>Verlautenheide</td>\n      <td>50.787902</td>\n      <td>6.159663</td>\n      <td>[[6.109553, 50.8024282], [6.1111558, 50.804500...</td>\n      <td>6,67</td>\n      <td>POLYGON ((6.10955 50.80243, 6.11116 50.80450, ...</td>\n    </tr>\n  </tbody>\n</table>\n</div>",
                        "text/plain": "   Post Code         District   Latitude  Longitude  \\\n0      52062           Center  50.777065   6.086469   \n1      52064           Center  50.767342   6.078569   \n2      52066           Center  50.757600   6.104802   \n3      52068           Haaren  50.779753   6.125916   \n4      52070      Laurensberg  50.793840   6.096248   \n5      52072       Richterich  50.821910   6.049721   \n6      52074  Vaalserquartier  50.773768   6.036342   \n7      52076            Brand  50.715195   6.149884   \n8      52078        Eilendorf  50.757029   6.161422   \n9      52080   Verlautenheide  50.787902   6.159663   \n\n                                            Geometry Charge  \\\n0  [[6.0746397, 50.778233399999976], [6.0755047, ...   7,68   \n1  [[6.061015, 50.76446859999999], [6.0612398, 50...   7,68   \n2  [[6.0720627, 50.75066249999998], [6.0732045, 5...   7,68   \n3  [[6.1008512, 50.77993449999999], [6.103057, 50...   6,65   \n4  [[6.0704272, 50.79009389999999], [6.0707235, 5...   7,71   \n5  [[6.0159425, 50.83879619999998], [6.0189456, 5...   6,93   \n6  [[5.9748624, 50.7980367], [5.974951, 50.798094...   7,57   \n7  [[6.0592867, 50.740119599999986], [6.0617563, ...   6,84   \n8  [[6.1172781, 50.7700921], [6.1174023, 50.77054...   6,61   \n9  [[6.109553, 50.8024282], [6.1111558, 50.804500...   6,67   \n\n                                          Geometrics  \n0  POLYGON ((6.07464 50.77823, 6.07550 50.78034, ...  \n1  POLYGON ((6.06102 50.76447, 6.06124 50.76580, ...  \n2  POLYGON ((6.07206 50.75066, 6.07320 50.75121, ...  \n3  POLYGON ((6.10085 50.77993, 6.10306 50.78093, ...  \n4  POLYGON ((6.07043 50.79009, 6.07072 50.79083, ...  \n5  POLYGON ((6.01594 50.83880, 6.01895 50.84626, ...  \n6  POLYGON ((5.97486 50.79804, 5.97495 50.79809, ...  \n7  POLYGON ((6.05929 50.74012, 6.06176 50.74306, ...  \n8  POLYGON ((6.11728 50.77009, 6.11740 50.77055, ...  \n9  POLYGON ((6.10955 50.80243, 6.11116 50.80450, ...  "
                    },
                    "execution_count": 394,
                    "metadata": {},
                    "output_type": "execute_result"
                }
            ],
            "source": "#Making a copy to reassign if something fails\nacdata_copy = acdata\nacdata_copy.head(2)"
        },
        {
            "cell_type": "code",
            "execution_count": 395,
            "metadata": {},
            "outputs": [
                {
                    "data": {
                        "text/plain": "Post Code        int64\nDistrict        object\nLatitude       float64\nLongitude      float64\nGeometry        object\nCharge         float64\nGeometrics    geometry\ndtype: object"
                    },
                    "execution_count": 395,
                    "metadata": {},
                    "output_type": "execute_result"
                }
            ],
            "source": "# In order to calculate a \",\" must be a \".\"\nacdata_copy['Charge'] = acdata_copy['Charge'].str.replace(',', '.')\nacdata_copy['Charge'] = acdata_copy['Charge'].astype(float)\nacdata_copy.dtypes"
        },
        {
            "cell_type": "code",
            "execution_count": 396,
            "metadata": {},
            "outputs": [
                {
                    "data": {
                        "text/html": "<div>\n<style scoped>\n    .dataframe tbody tr th:only-of-type {\n        vertical-align: middle;\n    }\n\n    .dataframe tbody tr th {\n        vertical-align: top;\n    }\n\n    .dataframe thead th {\n        text-align: right;\n    }\n</style>\n<table border=\"1\" class=\"dataframe\">\n  <thead>\n    <tr style=\"text-align: right;\">\n      <th></th>\n      <th>Post Code</th>\n      <th>District</th>\n      <th>Latitude</th>\n      <th>Longitude</th>\n      <th>Geometry</th>\n      <th>Charge</th>\n      <th>Geometrics</th>\n    </tr>\n  </thead>\n  <tbody>\n    <tr>\n      <th>0</th>\n      <td>52062</td>\n      <td>Center</td>\n      <td>50.777065</td>\n      <td>6.086469</td>\n      <td>[[6.0746397, 50.778233399999976], [6.0755047, ...</td>\n      <td>7.68</td>\n      <td>POLYGON ((6.07464 50.77823, 6.07550 50.78034, ...</td>\n    </tr>\n  </tbody>\n</table>\n</div>",
                        "text/plain": "   Post Code District   Latitude  Longitude  \\\n0      52062   Center  50.777065   6.086469   \n\n                                            Geometry  Charge  \\\n0  [[6.0746397, 50.778233399999976], [6.0755047, ...    7.68   \n\n                                          Geometrics  \n0  POLYGON ((6.07464 50.77823, 6.07550 50.78034, ...  "
                    },
                    "execution_count": 396,
                    "metadata": {},
                    "output_type": "execute_result"
                }
            ],
            "source": "acdata_copy.head(1)"
        },
        {
            "cell_type": "code",
            "execution_count": 435,
            "metadata": {},
            "outputs": [],
            "source": "mappingdata = acdata_copy"
        },
        {
            "cell_type": "code",
            "execution_count": 436,
            "metadata": {},
            "outputs": [
                {
                    "data": {
                        "text/plain": "PostCode       int64\ngeometry     float64\nDistrict    geometry\nCharge        object\ndtype: object"
                    },
                    "execution_count": 436,
                    "metadata": {},
                    "output_type": "execute_result"
                }
            ],
            "source": "mappingdata = mappingdata.drop(columns = ['Latitude','Longitude','Geometry'], axis = 1)\nmappingdata.columns = ['PostCode', 'Charge','geometry','District']\nmappingdata = mappingdata[['PostCode', 'geometry','District','Charge']]\nmappingdata.dtypes"
        },
        {
            "cell_type": "markdown",
            "metadata": {},
            "source": "#### Even after setting the dataframe up exactly as in a documentation the map could not be created with the following code\n#### This supports my thesis that the downloaded geodata of the region are corrupted\n#### Therefore I can not display a map with the different districts colored in the amout of rental fees what was originally planned"
        },
        {
            "cell_type": "markdown",
            "metadata": {},
            "source": "map_of_aachen.choropleth(\n geo_data=mappingdata,\n name='Choropleth',\n data=mappingdata,\n columns=['PostCode','Charge'],\n key_on=\"feature.properties.PostCode\",\n fill_color='BuGn',\n fill_opacity=1,\n line_opacity=0.2,\n legend_name='Rent Fee',\n smooth_factor=0\n)"
        },
        {
            "cell_type": "markdown",
            "metadata": {},
            "source": "# Part 2: Searching for nearby venues\n## Finding the most frequent type"
        },
        {
            "cell_type": "markdown",
            "metadata": {},
            "source": "### Define the url with personal id&secret in a hidden cell to call the foursquare api\n#### unfortunately only 100 requests can be made"
        },
        {
            "cell_type": "code",
            "execution_count": 11,
            "metadata": {},
            "outputs": [],
            "source": "# The code was removed by Watson Studio for sharing."
        },
        {
            "cell_type": "markdown",
            "metadata": {},
            "source": "### Send the GET Request"
        },
        {
            "cell_type": "code",
            "execution_count": 235,
            "metadata": {},
            "outputs": [],
            "source": "results = requests.get(url).json()"
        },
        {
            "cell_type": "markdown",
            "metadata": {},
            "source": "### Creating a Dataframe with all venues"
        },
        {
            "cell_type": "code",
            "execution_count": 236,
            "metadata": {},
            "outputs": [
                {
                    "data": {
                        "text/html": "<div>\n<style scoped>\n    .dataframe tbody tr th:only-of-type {\n        vertical-align: middle;\n    }\n\n    .dataframe tbody tr th {\n        vertical-align: top;\n    }\n\n    .dataframe thead th {\n        text-align: right;\n    }\n</style>\n<table border=\"1\" class=\"dataframe\">\n  <thead>\n    <tr style=\"text-align: right;\">\n      <th></th>\n      <th>reasons.count</th>\n      <th>reasons.items</th>\n      <th>referralId</th>\n      <th>venue.categories</th>\n      <th>venue.id</th>\n      <th>venue.location.address</th>\n      <th>venue.location.cc</th>\n      <th>venue.location.city</th>\n      <th>venue.location.country</th>\n      <th>venue.location.crossStreet</th>\n      <th>...</th>\n      <th>venue.location.formattedAddress</th>\n      <th>venue.location.labeledLatLngs</th>\n      <th>venue.location.lat</th>\n      <th>venue.location.lng</th>\n      <th>venue.location.postalCode</th>\n      <th>venue.location.state</th>\n      <th>venue.name</th>\n      <th>venue.photos.count</th>\n      <th>venue.photos.groups</th>\n      <th>venue.venuePage.id</th>\n    </tr>\n  </thead>\n  <tbody>\n    <tr>\n      <th>0</th>\n      <td>0</td>\n      <td>[{'summary': 'This spot is popular', 'type': '...</td>\n      <td>e-0-4bb61ee7ef159c740d7075f7-0</td>\n      <td>[{'id': '4bf58dd8d48988d132941735', 'name': 'C...</td>\n      <td>4bb61ee7ef159c740d7075f7</td>\n      <td>Klosterplatz 2</td>\n      <td>DE</td>\n      <td>Aachen</td>\n      <td>Deutschland</td>\n      <td>NaN</td>\n      <td>...</td>\n      <td>[Klosterplatz 2, 52062 Aachen, Deutschland]</td>\n      <td>[{'label': 'display', 'lat': 50.77470203610213...</td>\n      <td>50.774702</td>\n      <td>6.084103</td>\n      <td>52062</td>\n      <td>Nordrhein-Westfalen</td>\n      <td>Aachener Dom St. Marien</td>\n      <td>0</td>\n      <td>[]</td>\n      <td>NaN</td>\n    </tr>\n    <tr>\n      <th>1</th>\n      <td>0</td>\n      <td>[{'summary': 'This spot is popular', 'type': '...</td>\n      <td>e-0-4cc58565b2beb1f70818234c-1</td>\n      <td>[{'id': '4bf58dd8d48988d164941735', 'name': 'P...</td>\n      <td>4cc58565b2beb1f70818234c</td>\n      <td>Katschhof</td>\n      <td>DE</td>\n      <td>Aachen</td>\n      <td>Deutschland</td>\n      <td>NaN</td>\n      <td>...</td>\n      <td>[Katschhof, 52062 Aachen, Deutschland]</td>\n      <td>[{'label': 'display', 'lat': 50.77561116763609...</td>\n      <td>50.775611</td>\n      <td>6.083909</td>\n      <td>52062</td>\n      <td>Nordrhein-Westfalen</td>\n      <td>Katschhof</td>\n      <td>0</td>\n      <td>[]</td>\n      <td>NaN</td>\n    </tr>\n    <tr>\n      <th>2</th>\n      <td>0</td>\n      <td>[{'summary': 'This spot is popular', 'type': '...</td>\n      <td>e-0-4c926a997f3b8cfa490ea51e-2</td>\n      <td>[{'id': '4bf58dd8d48988d164941735', 'name': 'P...</td>\n      <td>4c926a997f3b8cfa490ea51e</td>\n      <td>Domhof</td>\n      <td>DE</td>\n      <td>Aachen</td>\n      <td>Deutschland</td>\n      <td>NaN</td>\n      <td>...</td>\n      <td>[Domhof, 52062 Aachen, Deutschland]</td>\n      <td>[{'label': 'display', 'lat': 50.77465811299527...</td>\n      <td>50.774658</td>\n      <td>6.083297</td>\n      <td>52062</td>\n      <td>Nordrhein-Westfalen</td>\n      <td>Domhof</td>\n      <td>0</td>\n      <td>[]</td>\n      <td>NaN</td>\n    </tr>\n    <tr>\n      <th>3</th>\n      <td>0</td>\n      <td>[{'summary': 'This spot is popular', 'type': '...</td>\n      <td>e-0-4c44531f74ffc928ee5875cc-3</td>\n      <td>[{'id': '4bf58dd8d48988d10b941735', 'name': 'F...</td>\n      <td>4c44531f74ffc928ee5875cc</td>\n      <td>Pontstr. 1-3</td>\n      <td>DE</td>\n      <td>Aachen</td>\n      <td>Deutschland</td>\n      <td>NaN</td>\n      <td>...</td>\n      <td>[Pontstr. 1-3, 52062 Aachen, Deutschland]</td>\n      <td>[{'label': 'display', 'lat': 50.77696662608818...</td>\n      <td>50.776967</td>\n      <td>6.083277</td>\n      <td>52062</td>\n      <td>Nordrhein-Westfalen</td>\n      <td>AKL</td>\n      <td>0</td>\n      <td>[]</td>\n      <td>NaN</td>\n    </tr>\n    <tr>\n      <th>4</th>\n      <td>0</td>\n      <td>[{'summary': 'This spot is popular', 'type': '...</td>\n      <td>e-0-4c82861751ada1cdfd3b1d10-4</td>\n      <td>[{'id': '4bf58dd8d48988d123941735', 'name': 'W...</td>\n      <td>4c82861751ada1cdfd3b1d10</td>\n      <td>Kockerellstr. 13</td>\n      <td>DE</td>\n      <td>Aachen</td>\n      <td>Deutschland</td>\n      <td>NaN</td>\n      <td>...</td>\n      <td>[Kockerellstr. 13, 52062 Aachen, Deutschland]</td>\n      <td>[{'label': 'display', 'lat': 50.77628844245805...</td>\n      <td>50.776288</td>\n      <td>6.081469</td>\n      <td>52062</td>\n      <td>Nordrhein-Westfalen</td>\n      <td>Vertical Weinbar</td>\n      <td>0</td>\n      <td>[]</td>\n      <td>NaN</td>\n    </tr>\n  </tbody>\n</table>\n<p>5 rows \u00d7 21 columns</p>\n</div>",
                        "text/plain": "   reasons.count                                      reasons.items  \\\n0              0  [{'summary': 'This spot is popular', 'type': '...   \n1              0  [{'summary': 'This spot is popular', 'type': '...   \n2              0  [{'summary': 'This spot is popular', 'type': '...   \n3              0  [{'summary': 'This spot is popular', 'type': '...   \n4              0  [{'summary': 'This spot is popular', 'type': '...   \n\n                       referralId  \\\n0  e-0-4bb61ee7ef159c740d7075f7-0   \n1  e-0-4cc58565b2beb1f70818234c-1   \n2  e-0-4c926a997f3b8cfa490ea51e-2   \n3  e-0-4c44531f74ffc928ee5875cc-3   \n4  e-0-4c82861751ada1cdfd3b1d10-4   \n\n                                    venue.categories  \\\n0  [{'id': '4bf58dd8d48988d132941735', 'name': 'C...   \n1  [{'id': '4bf58dd8d48988d164941735', 'name': 'P...   \n2  [{'id': '4bf58dd8d48988d164941735', 'name': 'P...   \n3  [{'id': '4bf58dd8d48988d10b941735', 'name': 'F...   \n4  [{'id': '4bf58dd8d48988d123941735', 'name': 'W...   \n\n                   venue.id venue.location.address venue.location.cc  \\\n0  4bb61ee7ef159c740d7075f7         Klosterplatz 2                DE   \n1  4cc58565b2beb1f70818234c              Katschhof                DE   \n2  4c926a997f3b8cfa490ea51e                 Domhof                DE   \n3  4c44531f74ffc928ee5875cc           Pontstr. 1-3                DE   \n4  4c82861751ada1cdfd3b1d10       Kockerellstr. 13                DE   \n\n  venue.location.city venue.location.country venue.location.crossStreet  ...  \\\n0              Aachen            Deutschland                        NaN  ...   \n1              Aachen            Deutschland                        NaN  ...   \n2              Aachen            Deutschland                        NaN  ...   \n3              Aachen            Deutschland                        NaN  ...   \n4              Aachen            Deutschland                        NaN  ...   \n\n                 venue.location.formattedAddress  \\\n0    [Klosterplatz 2, 52062 Aachen, Deutschland]   \n1         [Katschhof, 52062 Aachen, Deutschland]   \n2            [Domhof, 52062 Aachen, Deutschland]   \n3      [Pontstr. 1-3, 52062 Aachen, Deutschland]   \n4  [Kockerellstr. 13, 52062 Aachen, Deutschland]   \n\n                       venue.location.labeledLatLngs venue.location.lat  \\\n0  [{'label': 'display', 'lat': 50.77470203610213...          50.774702   \n1  [{'label': 'display', 'lat': 50.77561116763609...          50.775611   \n2  [{'label': 'display', 'lat': 50.77465811299527...          50.774658   \n3  [{'label': 'display', 'lat': 50.77696662608818...          50.776967   \n4  [{'label': 'display', 'lat': 50.77628844245805...          50.776288   \n\n   venue.location.lng  venue.location.postalCode venue.location.state  \\\n0            6.084103                      52062  Nordrhein-Westfalen   \n1            6.083909                      52062  Nordrhein-Westfalen   \n2            6.083297                      52062  Nordrhein-Westfalen   \n3            6.083277                      52062  Nordrhein-Westfalen   \n4            6.081469                      52062  Nordrhein-Westfalen   \n\n                venue.name venue.photos.count  venue.photos.groups  \\\n0  Aachener Dom St. Marien                  0                   []   \n1                Katschhof                  0                   []   \n2                   Domhof                  0                   []   \n3                      AKL                  0                   []   \n4         Vertical Weinbar                  0                   []   \n\n  venue.venuePage.id  \n0                NaN  \n1                NaN  \n2                NaN  \n3                NaN  \n4                NaN  \n\n[5 rows x 21 columns]"
                    },
                    "execution_count": 236,
                    "metadata": {},
                    "output_type": "execute_result"
                }
            ],
            "source": "locations = results['response']['groups'][0]['items']\ndataframe = json_normalize(locations)\ndataframe.head()"
        },
        {
            "cell_type": "code",
            "execution_count": 197,
            "metadata": {},
            "outputs": [
                {
                    "data": {
                        "text/plain": "'Aachener Dom St. Marien'"
                    },
                    "execution_count": 197,
                    "metadata": {},
                    "output_type": "execute_result"
                }
            ],
            "source": "# define the dataframe columns\ncolumn_names = ['Name', 'Address', 'Latitude', 'Longitude','Category'] \n\n# instantiate the dataframe\ndf_f = pd.DataFrame(columns=column_names)\ndf_f\n\n# first venue on the list\ndataframe['venue.name'][0]"
        },
        {
            "cell_type": "markdown",
            "metadata": {},
            "source": "#### Extracting relevant information"
        },
        {
            "cell_type": "code",
            "execution_count": 198,
            "metadata": {},
            "outputs": [
                {
                    "data": {
                        "text/html": "<div>\n<style scoped>\n    .dataframe tbody tr th:only-of-type {\n        vertical-align: middle;\n    }\n\n    .dataframe tbody tr th {\n        vertical-align: top;\n    }\n\n    .dataframe thead th {\n        text-align: right;\n    }\n</style>\n<table border=\"1\" class=\"dataframe\">\n  <thead>\n    <tr style=\"text-align: right;\">\n      <th></th>\n      <th>Name</th>\n      <th>Address</th>\n      <th>Latitude</th>\n      <th>Longitude</th>\n      <th>Category</th>\n    </tr>\n  </thead>\n  <tbody>\n    <tr>\n      <th>0</th>\n      <td>Aachener Dom St. Marien</td>\n      <td>Klosterplatz 2</td>\n      <td>50.774702</td>\n      <td>6.084103</td>\n      <td>[{'id': '4bf58dd8d48988d132941735', 'name': 'C...</td>\n    </tr>\n    <tr>\n      <th>1</th>\n      <td>Katschhof</td>\n      <td>Katschhof</td>\n      <td>50.775611</td>\n      <td>6.083909</td>\n      <td>[{'id': '4bf58dd8d48988d164941735', 'name': 'P...</td>\n    </tr>\n    <tr>\n      <th>2</th>\n      <td>Domhof</td>\n      <td>Domhof</td>\n      <td>50.774658</td>\n      <td>6.083297</td>\n      <td>[{'id': '4bf58dd8d48988d164941735', 'name': 'P...</td>\n    </tr>\n    <tr>\n      <th>3</th>\n      <td>AKL</td>\n      <td>Pontstr. 1-3</td>\n      <td>50.776967</td>\n      <td>6.083277</td>\n      <td>[{'id': '4bf58dd8d48988d10b941735', 'name': 'F...</td>\n    </tr>\n    <tr>\n      <th>4</th>\n      <td>Vertical Weinbar</td>\n      <td>Kockerellstr. 13</td>\n      <td>50.776288</td>\n      <td>6.081469</td>\n      <td>[{'id': '4bf58dd8d48988d123941735', 'name': 'W...</td>\n    </tr>\n  </tbody>\n</table>\n</div>",
                        "text/plain": "                      Name           Address   Latitude  Longitude  \\\n0  Aachener Dom St. Marien    Klosterplatz 2  50.774702   6.084103   \n1                Katschhof         Katschhof  50.775611   6.083909   \n2                   Domhof            Domhof  50.774658   6.083297   \n3                      AKL      Pontstr. 1-3  50.776967   6.083277   \n4         Vertical Weinbar  Kockerellstr. 13  50.776288   6.081469   \n\n                                            Category  \n0  [{'id': '4bf58dd8d48988d132941735', 'name': 'C...  \n1  [{'id': '4bf58dd8d48988d164941735', 'name': 'P...  \n2  [{'id': '4bf58dd8d48988d164941735', 'name': 'P...  \n3  [{'id': '4bf58dd8d48988d10b941735', 'name': 'F...  \n4  [{'id': '4bf58dd8d48988d123941735', 'name': 'W...  "
                    },
                    "execution_count": 198,
                    "metadata": {},
                    "output_type": "execute_result"
                }
            ],
            "source": "df = dataframe.loc[:,['venue.name','venue.location.address','venue.location.lat','venue.location.lng','venue.categories']]\ndf.columns = column_names\ndf.head()"
        },
        {
            "cell_type": "code",
            "execution_count": 199,
            "metadata": {},
            "outputs": [
                {
                    "data": {
                        "text/plain": "'Church'"
                    },
                    "execution_count": 199,
                    "metadata": {},
                    "output_type": "execute_result"
                }
            ],
            "source": "df_c = pd.DataFrame(['Category'])\ncategorylist = list()\nrows, columns = df.shape\n\n# looping through every category and append it to a list\nfor i in range(rows):\n    category = df['Category'][i][0]['shortName']\n    categorylist.append(category)\n    #print(category)\n\n# First category\ndf['Category'][0][0]['shortName']"
        },
        {
            "cell_type": "markdown",
            "metadata": {},
            "source": "#### the next cell were just some test to extract the category out of the dataframe"
        },
        {
            "cell_type": "code",
            "execution_count": 200,
            "metadata": {},
            "outputs": [],
            "source": "# The code was removed by Watson Studio for sharing."
        },
        {
            "cell_type": "markdown",
            "metadata": {},
            "source": "#### creating a new dataframe with only the extracted categories"
        },
        {
            "cell_type": "code",
            "execution_count": 201,
            "metadata": {},
            "outputs": [
                {
                    "data": {
                        "text/html": "<div>\n<style scoped>\n    .dataframe tbody tr th:only-of-type {\n        vertical-align: middle;\n    }\n\n    .dataframe tbody tr th {\n        vertical-align: top;\n    }\n\n    .dataframe thead th {\n        text-align: right;\n    }\n</style>\n<table border=\"1\" class=\"dataframe\">\n  <thead>\n    <tr style=\"text-align: right;\">\n      <th></th>\n      <th>Category</th>\n    </tr>\n  </thead>\n  <tbody>\n    <tr>\n      <th>0</th>\n      <td>Church</td>\n    </tr>\n    <tr>\n      <th>1</th>\n      <td>Plaza</td>\n    </tr>\n    <tr>\n      <th>2</th>\n      <td>Plaza</td>\n    </tr>\n    <tr>\n      <th>3</th>\n      <td>Falafel</td>\n    </tr>\n    <tr>\n      <th>4</th>\n      <td>Wine Bar</td>\n    </tr>\n  </tbody>\n</table>\n</div>",
                        "text/plain": "   Category\n0    Church\n1     Plaza\n2     Plaza\n3   Falafel\n4  Wine Bar"
                    },
                    "execution_count": 201,
                    "metadata": {},
                    "output_type": "execute_result"
                }
            ],
            "source": "df_c = pd.DataFrame(categorylist, columns = ['Category'])\ndf_c.head()"
        },
        {
            "cell_type": "markdown",
            "metadata": {},
            "source": "#### override the existing category column with the extracted categories"
        },
        {
            "cell_type": "code",
            "execution_count": 202,
            "metadata": {},
            "outputs": [
                {
                    "data": {
                        "text/html": "<div>\n<style scoped>\n    .dataframe tbody tr th:only-of-type {\n        vertical-align: middle;\n    }\n\n    .dataframe tbody tr th {\n        vertical-align: top;\n    }\n\n    .dataframe thead th {\n        text-align: right;\n    }\n</style>\n<table border=\"1\" class=\"dataframe\">\n  <thead>\n    <tr style=\"text-align: right;\">\n      <th></th>\n      <th>Name</th>\n      <th>Address</th>\n      <th>Latitude</th>\n      <th>Longitude</th>\n      <th>Category</th>\n    </tr>\n  </thead>\n  <tbody>\n    <tr>\n      <th>0</th>\n      <td>Aachener Dom St. Marien</td>\n      <td>Klosterplatz 2</td>\n      <td>50.774702</td>\n      <td>6.084103</td>\n      <td>Church</td>\n    </tr>\n    <tr>\n      <th>1</th>\n      <td>Katschhof</td>\n      <td>Katschhof</td>\n      <td>50.775611</td>\n      <td>6.083909</td>\n      <td>Plaza</td>\n    </tr>\n    <tr>\n      <th>2</th>\n      <td>Domhof</td>\n      <td>Domhof</td>\n      <td>50.774658</td>\n      <td>6.083297</td>\n      <td>Plaza</td>\n    </tr>\n    <tr>\n      <th>3</th>\n      <td>AKL</td>\n      <td>Pontstr. 1-3</td>\n      <td>50.776967</td>\n      <td>6.083277</td>\n      <td>Falafel</td>\n    </tr>\n    <tr>\n      <th>4</th>\n      <td>Vertical Weinbar</td>\n      <td>Kockerellstr. 13</td>\n      <td>50.776288</td>\n      <td>6.081469</td>\n      <td>Wine Bar</td>\n    </tr>\n    <tr>\n      <th>5</th>\n      <td>BURGERISTA</td>\n      <td>Am Markt 46</td>\n      <td>50.776384</td>\n      <td>6.084331</td>\n      <td>Burgers</td>\n    </tr>\n    <tr>\n      <th>6</th>\n      <td>Ghorban Delikatessen Manufaktur</td>\n      <td>Kr\u00e4merstr. 5</td>\n      <td>50.776016</td>\n      <td>6.084324</td>\n      <td>Deli / Bodega</td>\n    </tr>\n    <tr>\n      <th>7</th>\n      <td>Rathaus</td>\n      <td>Markt</td>\n      <td>50.776378</td>\n      <td>6.083880</td>\n      <td>City Hall</td>\n    </tr>\n    <tr>\n      <th>8</th>\n      <td>Nobis Printen</td>\n      <td>M\u00fcnsterplatz 3</td>\n      <td>50.774577</td>\n      <td>6.084693</td>\n      <td>Bakery</td>\n    </tr>\n    <tr>\n      <th>9</th>\n      <td>Domkeller</td>\n      <td>Hof 1</td>\n      <td>50.775588</td>\n      <td>6.085062</td>\n      <td>Pub</td>\n    </tr>\n  </tbody>\n</table>\n</div>",
                        "text/plain": "                              Name           Address   Latitude  Longitude  \\\n0          Aachener Dom St. Marien    Klosterplatz 2  50.774702   6.084103   \n1                        Katschhof         Katschhof  50.775611   6.083909   \n2                           Domhof            Domhof  50.774658   6.083297   \n3                              AKL      Pontstr. 1-3  50.776967   6.083277   \n4                 Vertical Weinbar  Kockerellstr. 13  50.776288   6.081469   \n5                       BURGERISTA       Am Markt 46  50.776384   6.084331   \n6  Ghorban Delikatessen Manufaktur      Kr\u00e4merstr. 5  50.776016   6.084324   \n7                          Rathaus             Markt  50.776378   6.083880   \n8                    Nobis Printen    M\u00fcnsterplatz 3  50.774577   6.084693   \n9                        Domkeller             Hof 1  50.775588   6.085062   \n\n        Category  \n0         Church  \n1          Plaza  \n2          Plaza  \n3        Falafel  \n4       Wine Bar  \n5        Burgers  \n6  Deli / Bodega  \n7      City Hall  \n8         Bakery  \n9            Pub  "
                    },
                    "execution_count": 202,
                    "metadata": {},
                    "output_type": "execute_result"
                }
            ],
            "source": "df['Category'] = df_c['Category']\ndf.head(10)"
        },
        {
            "cell_type": "code",
            "execution_count": 203,
            "metadata": {},
            "outputs": [
                {
                    "name": "stdout",
                    "output_type": "stream",
                    "text": "There are 57 uniques categories.\n"
                }
            ],
            "source": "print('There are {} uniques categories.'.format(len(df['Category'].unique())))"
        },
        {
            "cell_type": "code",
            "execution_count": 237,
            "metadata": {},
            "outputs": [
                {
                    "data": {
                        "text/html": "<div>\n<style scoped>\n    .dataframe tbody tr th:only-of-type {\n        vertical-align: middle;\n    }\n\n    .dataframe tbody tr th {\n        vertical-align: top;\n    }\n\n    .dataframe thead th {\n        text-align: right;\n    }\n</style>\n<table border=\"1\" class=\"dataframe\">\n  <thead>\n    <tr style=\"text-align: right;\">\n      <th></th>\n      <th>Wine Bar</th>\n      <th>Asian</th>\n      <th>Bagels</th>\n      <th>Bakery</th>\n      <th>Bar</th>\n      <th>Beer Store</th>\n      <th>Bookstore</th>\n      <th>Burgers</th>\n      <th>Caf\u00e9</th>\n      <th>Chinese</th>\n      <th>...</th>\n      <th>Snacks</th>\n      <th>South American</th>\n      <th>Spa</th>\n      <th>Steakhouse</th>\n      <th>Supermarket</th>\n      <th>Sushi</th>\n      <th>Theater</th>\n      <th>Turkish</th>\n      <th>Vegetarian / Vegan</th>\n      <th>Vietnamese</th>\n    </tr>\n  </thead>\n  <tbody>\n  </tbody>\n</table>\n<p>0 rows \u00d7 57 columns</p>\n</div>",
                        "text/plain": "Empty DataFrame\nColumns: [Wine Bar, Asian, Bagels, Bakery, Bar, Beer Store, Bookstore, Burgers, Caf\u00e9, Chinese, Church, City Hall, Cocktail, Coffee Shop, Concert Hall, Cupcakes, Deli / Bodega, Desserts, Drugstore, Falafel, Fast Food, Furniture / Home, German, Halal, History Museum, Hobbies, Hotel, Hotel Bar, Ice Cream, Irish, Italian, Korean, Lounge, Mall, Mediterranean, Middle Eastern, Optical, Park, Performing Arts, Pet Caf\u00e9, Pizza, Plaza, Pub, Restaurant, Road, Schnitzel, Sculpture, Snacks, South American, Spa, Steakhouse, Supermarket, Sushi, Theater, Turkish, Vegetarian / Vegan, Vietnamese]\nIndex: []\n\n[0 rows x 57 columns]"
                    },
                    "execution_count": 237,
                    "metadata": {},
                    "output_type": "execute_result"
                }
            ],
            "source": "# Display categories in columns\naachen_onehot = pd.get_dummies(df[['Category']], prefix=\"\", prefix_sep=\"\")\n\nfixed_columns = [aachen_onehot.columns[-1]] + list(aachen_onehot.columns[:-1])\naachen_onehot = aachen_onehot[fixed_columns]\n\naachen_onehot.head(0)"
        },
        {
            "cell_type": "code",
            "execution_count": 238,
            "metadata": {},
            "outputs": [
                {
                    "data": {
                        "text/plain": "(100, 57)"
                    },
                    "execution_count": 238,
                    "metadata": {},
                    "output_type": "execute_result"
                }
            ],
            "source": "aachen_onehot.shape"
        },
        {
            "cell_type": "markdown",
            "metadata": {},
            "source": "### The top 5 location types"
        },
        {
            "cell_type": "code",
            "execution_count": 236,
            "metadata": {},
            "outputs": [
                {
                    "data": {
                        "text/html": "<div>\n<style scoped>\n    .dataframe tbody tr th:only-of-type {\n        vertical-align: middle;\n    }\n\n    .dataframe tbody tr th {\n        vertical-align: top;\n    }\n\n    .dataframe thead th {\n        text-align: right;\n    }\n</style>\n<table border=\"1\" class=\"dataframe\">\n  <thead>\n    <tr style=\"text-align: right;\">\n      <th></th>\n      <th>Count</th>\n    </tr>\n  </thead>\n  <tbody>\n    <tr>\n      <th>Bar</th>\n      <td>7</td>\n    </tr>\n    <tr>\n      <th>Bakery</th>\n      <td>6</td>\n    </tr>\n    <tr>\n      <th>Caf\u00e9</th>\n      <td>5</td>\n    </tr>\n    <tr>\n      <th>Italian</th>\n      <td>5</td>\n    </tr>\n    <tr>\n      <th>Coffee Shop</th>\n      <td>5</td>\n    </tr>\n  </tbody>\n</table>\n</div>",
                        "text/plain": "             Count\nBar              7\nBakery           6\nCaf\u00e9             5\nItalian          5\nCoffee Shop      5"
                    },
                    "execution_count": 236,
                    "metadata": {},
                    "output_type": "execute_result"
                }
            ],
            "source": "types = pd.DataFrame(aachen_onehot.sum(axis =0), columns = ['Count'])\nsortedtype = types.sort_values(by=['Count'], ascending=False)\nsortedtype.head(5)"
        },
        {
            "cell_type": "markdown",
            "metadata": {},
            "source": "# Part 3: socio-demographic analysis\n## Including: distribution of age and population in districts"
        },
        {
            "cell_type": "markdown",
            "metadata": {},
            "source": "#### Loading Data from the districts"
        },
        {
            "cell_type": "code",
            "execution_count": 477,
            "metadata": {},
            "outputs": [
                {
                    "data": {
                        "text/html": "<div>\n<style scoped>\n    .dataframe tbody tr th:only-of-type {\n        vertical-align: middle;\n    }\n\n    .dataframe tbody tr th {\n        vertical-align: top;\n    }\n\n    .dataframe thead th {\n        text-align: right;\n    }\n</style>\n<table border=\"1\" class=\"dataframe\">\n  <thead>\n    <tr style=\"text-align: right;\">\n      <th></th>\n      <th>Bez</th>\n      <th>StatBezName</th>\n      <th>Pers</th>\n      <th>HW</th>\n      <th>NW</th>\n      <th>M</th>\n      <th>W</th>\n      <th>LD</th>\n      <th>VH</th>\n      <th>VW</th>\n      <th>...</th>\n      <th>55-59</th>\n      <th>60-64</th>\n      <th>65-69</th>\n      <th>70-74</th>\n      <th>75-79</th>\n      <th>80-84</th>\n      <th>85-89</th>\n      <th>90um</th>\n      <th>Deutsch</th>\n      <th>Ausl</th>\n    </tr>\n  </thead>\n  <tbody>\n    <tr>\n      <th>0</th>\n      <td>10</td>\n      <td>Markt</td>\n      <td>2740</td>\n      <td>2695</td>\n      <td>45</td>\n      <td>1627</td>\n      <td>1113</td>\n      <td>2020</td>\n      <td>496</td>\n      <td>75</td>\n      <td>...</td>\n      <td>109</td>\n      <td>105</td>\n      <td>60</td>\n      <td>63</td>\n      <td>64</td>\n      <td>62</td>\n      <td>16</td>\n      <td>17</td>\n      <td>2049</td>\n      <td>691</td>\n    </tr>\n    <tr>\n      <th>1</th>\n      <td>13</td>\n      <td>Theater</td>\n      <td>2823</td>\n      <td>2793</td>\n      <td>30</td>\n      <td>1609</td>\n      <td>1214</td>\n      <td>1975</td>\n      <td>581</td>\n      <td>107</td>\n      <td>...</td>\n      <td>111</td>\n      <td>97</td>\n      <td>89</td>\n      <td>85</td>\n      <td>86</td>\n      <td>89</td>\n      <td>30</td>\n      <td>23</td>\n      <td>2182</td>\n      <td>641</td>\n    </tr>\n    <tr>\n      <th>2</th>\n      <td>14</td>\n      <td>Lindenplatz</td>\n      <td>4317</td>\n      <td>4254</td>\n      <td>63</td>\n      <td>2365</td>\n      <td>1952</td>\n      <td>3239</td>\n      <td>692</td>\n      <td>186</td>\n      <td>...</td>\n      <td>156</td>\n      <td>129</td>\n      <td>116</td>\n      <td>92</td>\n      <td>116</td>\n      <td>112</td>\n      <td>85</td>\n      <td>62</td>\n      <td>3273</td>\n      <td>1044</td>\n    </tr>\n    <tr>\n      <th>3</th>\n      <td>15</td>\n      <td>St. Jakob</td>\n      <td>6525</td>\n      <td>6446</td>\n      <td>79</td>\n      <td>3643</td>\n      <td>2882</td>\n      <td>4865</td>\n      <td>1179</td>\n      <td>149</td>\n      <td>...</td>\n      <td>262</td>\n      <td>214</td>\n      <td>167</td>\n      <td>133</td>\n      <td>88</td>\n      <td>97</td>\n      <td>43</td>\n      <td>12</td>\n      <td>5223</td>\n      <td>1302</td>\n    </tr>\n    <tr>\n      <th>4</th>\n      <td>16</td>\n      <td>Westpark</td>\n      <td>8384</td>\n      <td>8290</td>\n      <td>94</td>\n      <td>4632</td>\n      <td>3752</td>\n      <td>5634</td>\n      <td>2081</td>\n      <td>303</td>\n      <td>...</td>\n      <td>349</td>\n      <td>349</td>\n      <td>237</td>\n      <td>187</td>\n      <td>212</td>\n      <td>182</td>\n      <td>109</td>\n      <td>60</td>\n      <td>6677</td>\n      <td>1707</td>\n    </tr>\n  </tbody>\n</table>\n<p>5 rows \u00d7 34 columns</p>\n</div>",
                        "text/plain": "   Bez  StatBezName  Pers    HW  NW     M     W    LD    VH   VW  ...  55-59  \\\n0   10        Markt  2740  2695  45  1627  1113  2020   496   75  ...    109   \n1   13      Theater  2823  2793  30  1609  1214  1975   581  107  ...    111   \n2   14  Lindenplatz  4317  4254  63  2365  1952  3239   692  186  ...    156   \n3   15    St. Jakob  6525  6446  79  3643  2882  4865  1179  149  ...    262   \n4   16     Westpark  8384  8290  94  4632  3752  5634  2081  303  ...    349   \n\n   60-64  65-69  70-74  75-79  80-84  85-89  90um  Deutsch  Ausl  \n0    105     60     63     64     62     16    17     2049   691  \n1     97     89     85     86     89     30    23     2182   641  \n2    129    116     92    116    112     85    62     3273  1044  \n3    214    167    133     88     97     43    12     5223  1302  \n4    349    237    187    212    182    109    60     6677  1707  \n\n[5 rows x 34 columns]"
                    },
                    "execution_count": 477,
                    "metadata": {},
                    "output_type": "execute_result"
                }
            ],
            "source": "popurlcsv = 'http://offenedaten.aachen.de/dataset/81650028-ef21-4f1b-a991-9e3a3f01c729/resource/4dc370c9-1623-4b34-95a4-7854d5140ff0/download/201912opendataaachen-daten-statistische-bezirkealle.csv'\npopurlexcel = 'http://offenedaten.aachen.de/dataset/81650028-ef21-4f1b-a991-9e3a3f01c729/resource/4a29b872-63ed-40a4-83ec-a1220658d705/download/201912opendataaachen-daten-statistische-bezirkealle.xlsx'\npopulation = pd.read_excel(popurlexcel)\npopulation.head(3)"
        },
        {
            "cell_type": "markdown",
            "metadata": {},
            "source": "#### Dropping irrelevant columns & renaming "
        },
        {
            "cell_type": "code",
            "execution_count": 478,
            "metadata": {
                "scrolled": true
            },
            "outputs": [
                {
                    "data": {
                        "text/html": "<div>\n<style scoped>\n    .dataframe tbody tr th:only-of-type {\n        vertical-align: middle;\n    }\n\n    .dataframe tbody tr th {\n        vertical-align: top;\n    }\n\n    .dataframe thead th {\n        text-align: right;\n    }\n</style>\n<table border=\"1\" class=\"dataframe\">\n  <thead>\n    <tr style=\"text-align: right;\">\n      <th></th>\n      <th>Name</th>\n      <th>Pers</th>\n      <th>M</th>\n      <th>W</th>\n      <th>0-2</th>\n      <th>3-5</th>\n      <th>6-9</th>\n      <th>10-14</th>\n      <th>15-17</th>\n      <th>18-19</th>\n      <th>...</th>\n      <th>45-49</th>\n      <th>50-54</th>\n      <th>55-59</th>\n      <th>60-64</th>\n      <th>65-69</th>\n      <th>70-74</th>\n      <th>75-79</th>\n      <th>80-84</th>\n      <th>85-89</th>\n      <th>90um</th>\n    </tr>\n  </thead>\n  <tbody>\n    <tr>\n      <th>0</th>\n      <td>Markt</td>\n      <td>2740</td>\n      <td>1627</td>\n      <td>1113</td>\n      <td>41</td>\n      <td>22</td>\n      <td>23</td>\n      <td>27</td>\n      <td>16</td>\n      <td>99</td>\n      <td>...</td>\n      <td>81</td>\n      <td>95</td>\n      <td>109</td>\n      <td>105</td>\n      <td>60</td>\n      <td>63</td>\n      <td>64</td>\n      <td>62</td>\n      <td>16</td>\n      <td>17</td>\n    </tr>\n    <tr>\n      <th>1</th>\n      <td>Theater</td>\n      <td>2823</td>\n      <td>1609</td>\n      <td>1214</td>\n      <td>51</td>\n      <td>22</td>\n      <td>27</td>\n      <td>32</td>\n      <td>26</td>\n      <td>84</td>\n      <td>...</td>\n      <td>91</td>\n      <td>119</td>\n      <td>111</td>\n      <td>97</td>\n      <td>89</td>\n      <td>85</td>\n      <td>86</td>\n      <td>89</td>\n      <td>30</td>\n      <td>23</td>\n    </tr>\n    <tr>\n      <th>2</th>\n      <td>Lindenplatz</td>\n      <td>4317</td>\n      <td>2365</td>\n      <td>1952</td>\n      <td>57</td>\n      <td>46</td>\n      <td>41</td>\n      <td>43</td>\n      <td>38</td>\n      <td>155</td>\n      <td>...</td>\n      <td>142</td>\n      <td>173</td>\n      <td>156</td>\n      <td>129</td>\n      <td>116</td>\n      <td>92</td>\n      <td>116</td>\n      <td>112</td>\n      <td>85</td>\n      <td>62</td>\n    </tr>\n  </tbody>\n</table>\n<p>3 rows \u00d7 25 columns</p>\n</div>",
                        "text/plain": "          Name  Pers     M     W  0-2  3-5  6-9  10-14  15-17  18-19  ...  \\\n0        Markt  2740  1627  1113   41   22   23     27     16     99  ...   \n1      Theater  2823  1609  1214   51   22   27     32     26     84  ...   \n2  Lindenplatz  4317  2365  1952   57   46   41     43     38    155  ...   \n\n   45-49  50-54  55-59  60-64  65-69  70-74  75-79  80-84  85-89  90um  \n0     81     95    109    105     60     63     64     62     16    17  \n1     91    119    111     97     89     85     86     89     30    23  \n2    142    173    156    129    116     92    116    112     85    62  \n\n[3 rows x 25 columns]"
                    },
                    "execution_count": 478,
                    "metadata": {},
                    "output_type": "execute_result"
                }
            ],
            "source": "population = population.drop(columns = ['Bez','HW','NW','LD','VH','VW','GS','Deutsch','Ausl'], axis = 1)\npopulation.rename(columns={'StatBezName':'Name'}, inplace=True)\npopulation.head(3)"
        },
        {
            "cell_type": "markdown",
            "metadata": {},
            "source": "#### Total of the living people in Aachen divided up on age"
        },
        {
            "cell_type": "code",
            "execution_count": 513,
            "metadata": {},
            "outputs": [
                {
                    "data": {
                        "text/html": "<div>\n<style scoped>\n    .dataframe tbody tr th:only-of-type {\n        vertical-align: middle;\n    }\n\n    .dataframe tbody tr th {\n        vertical-align: top;\n    }\n\n    .dataframe thead th {\n        text-align: right;\n    }\n</style>\n<table border=\"1\" class=\"dataframe\">\n  <thead>\n    <tr style=\"text-align: right;\">\n      <th></th>\n      <th>Sum</th>\n    </tr>\n  </thead>\n  <tbody>\n    <tr>\n      <th>Pers</th>\n      <td>258816</td>\n    </tr>\n    <tr>\n      <th>M</th>\n      <td>135699</td>\n    </tr>\n    <tr>\n      <th>W</th>\n      <td>123117</td>\n    </tr>\n    <tr>\n      <th>0-2</th>\n      <td>6271</td>\n    </tr>\n    <tr>\n      <th>3-5</th>\n      <td>5901</td>\n    </tr>\n    <tr>\n      <th>6-9</th>\n      <td>7378</td>\n    </tr>\n    <tr>\n      <th>10-14</th>\n      <td>9485</td>\n    </tr>\n    <tr>\n      <th>15-17</th>\n      <td>5919</td>\n    </tr>\n    <tr>\n      <th>18-19</th>\n      <td>7339</td>\n    </tr>\n    <tr>\n      <th>20-24</th>\n      <td>31882</td>\n    </tr>\n    <tr>\n      <th>25-29</th>\n      <td>28979</td>\n    </tr>\n    <tr>\n      <th>30-34</th>\n      <td>19890</td>\n    </tr>\n    <tr>\n      <th>35-39</th>\n      <td>15103</td>\n    </tr>\n    <tr>\n      <th>40-44</th>\n      <td>12820</td>\n    </tr>\n    <tr>\n      <th>45-49</th>\n      <td>13311</td>\n    </tr>\n    <tr>\n      <th>50-54</th>\n      <td>17173</td>\n    </tr>\n    <tr>\n      <th>55-59</th>\n      <td>16692</td>\n    </tr>\n    <tr>\n      <th>60-64</th>\n      <td>14092</td>\n    </tr>\n    <tr>\n      <th>65-69</th>\n      <td>11970</td>\n    </tr>\n    <tr>\n      <th>70-74</th>\n      <td>9688</td>\n    </tr>\n    <tr>\n      <th>75-79</th>\n      <td>9784</td>\n    </tr>\n    <tr>\n      <th>80-84</th>\n      <td>8611</td>\n    </tr>\n    <tr>\n      <th>85-89</th>\n      <td>4182</td>\n    </tr>\n    <tr>\n      <th>90um</th>\n      <td>2346</td>\n    </tr>\n  </tbody>\n</table>\n</div>",
                        "text/plain": "          Sum\nPers   258816\nM      135699\nW      123117\n0-2      6271\n3-5      5901\n6-9      7378\n10-14    9485\n15-17    5919\n18-19    7339\n20-24   31882\n25-29   28979\n30-34   19890\n35-39   15103\n40-44   12820\n45-49   13311\n50-54   17173\n55-59   16692\n60-64   14092\n65-69   11970\n70-74    9688\n75-79    9784\n80-84    8611\n85-89    4182\n90um     2346"
                    },
                    "execution_count": 513,
                    "metadata": {},
                    "output_type": "execute_result"
                }
            ],
            "source": "pop_sum = pd.DataFrame(population.sum(axis = 0))\npop_sum = pop_sum.drop(['Name'], axis = 0)\npop_sum.columns = ['Sum']\npop_sum.head()"
        },
        {
            "cell_type": "code",
            "execution_count": 501,
            "metadata": {},
            "outputs": [],
            "source": "pop_sum_age = pop_sum.drop(['Pers','M','W'], axis = 0)"
        },
        {
            "cell_type": "code",
            "execution_count": 576,
            "metadata": {},
            "outputs": [
                {
                    "data": {
                        "text/plain": "Text(0.5, 1.0, 'Amount of peoply by age')"
                    },
                    "execution_count": 576,
                    "metadata": {},
                    "output_type": "execute_result"
                },
                {
                    "data": {
                        "image/png": "[encoded data removed]",
                        "text/plain": "<Figure size 432x288 with 1 Axes>"
                    },
                    "metadata": {
                        "needs_background": "light"
                    },
                    "output_type": "display_data"
                }
            ],
            "source": "ax = pop_sum_age.plot.bar()\nax.set_title('Amount of peoply by age')"
        },
        {
            "cell_type": "markdown",
            "metadata": {},
            "source": "#### Highes bars are between the age 20 and 34"
        },
        {
            "cell_type": "code",
            "execution_count": 527,
            "metadata": {},
            "outputs": [
                {
                    "name": "stdout",
                    "output_type": "stream",
                    "text": "80751\n0.31200157640949555\n"
                }
            ],
            "source": "people = pop_sum['Sum'][0]\nbetween = pop_sum['Sum'][9] + pop_sum['Sum'][10] + pop_sum['Sum'][11]\nprint(between)\nprint(between/people)"
        },
        {
            "cell_type": "markdown",
            "metadata": {},
            "source": "#### Over 80000 are between 20 and 34 years old (>30 percent)"
        },
        {
            "cell_type": "markdown",
            "metadata": {},
            "source": "#### Where do most people live"
        },
        {
            "cell_type": "code",
            "execution_count": 548,
            "metadata": {},
            "outputs": [
                {
                    "data": {
                        "text/html": "<div>\n<style scoped>\n    .dataframe tbody tr th:only-of-type {\n        vertical-align: middle;\n    }\n\n    .dataframe tbody tr th {\n        vertical-align: top;\n    }\n\n    .dataframe thead th {\n        text-align: right;\n    }\n</style>\n<table border=\"1\" class=\"dataframe\">\n  <thead>\n    <tr style=\"text-align: right;\">\n      <th></th>\n      <th>District</th>\n      <th>People</th>\n    </tr>\n  </thead>\n  <tbody>\n    <tr>\n      <th>0</th>\n      <td>Brand</td>\n      <td>17247</td>\n    </tr>\n    <tr>\n      <th>1</th>\n      <td>Eilendorf</td>\n      <td>15981</td>\n    </tr>\n    <tr>\n      <th>2</th>\n      <td>Forst</td>\n      <td>13467</td>\n    </tr>\n    <tr>\n      <th>3</th>\n      <td>Ponttor</td>\n      <td>12916</td>\n    </tr>\n    <tr>\n      <th>4</th>\n      <td>Haaren</td>\n      <td>12535</td>\n    </tr>\n    <tr>\n      <th>5</th>\n      <td>Hangeweiher</td>\n      <td>11680</td>\n    </tr>\n    <tr>\n      <th>6</th>\n      <td>Laurensberg</td>\n      <td>10662</td>\n    </tr>\n    <tr>\n      <th>7</th>\n      <td>Adalbertsteinweg</td>\n      <td>10212</td>\n    </tr>\n  </tbody>\n</table>\n</div>",
                        "text/plain": "           District  People\n0             Brand   17247\n1         Eilendorf   15981\n2             Forst   13467\n3           Ponttor   12916\n4            Haaren   12535\n5       Hangeweiher   11680\n6       Laurensberg   10662\n7  Adalbertsteinweg   10212"
                    },
                    "execution_count": 548,
                    "metadata": {},
                    "output_type": "execute_result"
                }
            ],
            "source": "# Creating new dataframe with only the Districts and the people living there\ncn = ['District', 'People'] \npop_dis = pd.DataFrame(columns=cn)\npop_dis['District'] = population['Name']\npop_dis['People'] = population['Pers']\npop_dis = pop_dis.sort_values('People', ascending = False)\npop_dis = pop_dis.reset_index(drop = True)\npop_dis.head(8)"
        },
        {
            "cell_type": "code",
            "execution_count": 575,
            "metadata": {},
            "outputs": [
                {
                    "data": {
                        "image/png": "[encoded data removed]",
                        "text/plain": "<Figure size 432x288 with 1 Axes>"
                    },
                    "metadata": {
                        "needs_background": "light"
                    },
                    "output_type": "display_data"
                },
                {
                    "data": {
                        "text/plain": "<Figure size 432x432 with 0 Axes>"
                    },
                    "metadata": {},
                    "output_type": "display_data"
                }
            ],
            "source": "ax = pop_dis[['District','People']].plot(kind = 'barh')\nax.set_title('Amount of people in districts')"
        },
        {
            "cell_type": "markdown",
            "metadata": {},
            "source": "#### Most people do not live in the most expensive areas If compared to the rent table"
        },
        {
            "cell_type": "code",
            "execution_count": 541,
            "metadata": {},
            "outputs": [
                {
                    "data": {
                        "text/html": "<div>\n<style scoped>\n    .dataframe tbody tr th:only-of-type {\n        vertical-align: middle;\n    }\n\n    .dataframe tbody tr th {\n        vertical-align: top;\n    }\n\n    .dataframe thead th {\n        text-align: right;\n    }\n</style>\n<table border=\"1\" class=\"dataframe\">\n  <thead>\n    <tr style=\"text-align: right;\">\n      <th></th>\n      <th>District</th>\n      <th>Charge</th>\n    </tr>\n  </thead>\n  <tbody>\n    <tr>\n      <th>0</th>\n      <td>Laurensberg</td>\n      <td>7,71 Euro</td>\n    </tr>\n    <tr>\n      <th>1</th>\n      <td>Center</td>\n      <td>7,68 Euro</td>\n    </tr>\n    <tr>\n      <th>2</th>\n      <td>Vaalserquartier</td>\n      <td>7,57 Euro</td>\n    </tr>\n    <tr>\n      <th>3</th>\n      <td>Richterich</td>\n      <td>6,93 Euro</td>\n    </tr>\n    <tr>\n      <th>4</th>\n      <td>Brand</td>\n      <td>6,84 Euro</td>\n    </tr>\n    <tr>\n      <th>5</th>\n      <td>Verlautenheide</td>\n      <td>6,67 Euro</td>\n    </tr>\n    <tr>\n      <th>6</th>\n      <td>Haaren</td>\n      <td>6,65 Euro</td>\n    </tr>\n    <tr>\n      <th>7</th>\n      <td>Eilendorf</td>\n      <td>6,61 Euro</td>\n    </tr>\n  </tbody>\n</table>\n</div>",
                        "text/plain": "          District     Charge\n0      Laurensberg  7,71 Euro\n1           Center  7,68 Euro\n2  Vaalserquartier  7,57 Euro\n3       Richterich  6,93 Euro\n4            Brand  6,84 Euro\n5   Verlautenheide  6,67 Euro\n6           Haaren  6,65 Euro\n7        Eilendorf  6,61 Euro"
                    },
                    "execution_count": 541,
                    "metadata": {},
                    "output_type": "execute_result"
                }
            ],
            "source": "rent.reset_index(drop = True)"
        },
        {
            "cell_type": "code",
            "execution_count": 579,
            "metadata": {},
            "outputs": [
                {
                    "data": {
                        "text/html": "<div>\n<style scoped>\n    .dataframe tbody tr th:only-of-type {\n        vertical-align: middle;\n    }\n\n    .dataframe tbody tr th {\n        vertical-align: top;\n    }\n\n    .dataframe thead th {\n        text-align: right;\n    }\n</style>\n<table border=\"1\" class=\"dataframe\">\n  <thead>\n    <tr style=\"text-align: right;\">\n      <th></th>\n      <th>District</th>\n      <th>Charge</th>\n      <th>People</th>\n    </tr>\n  </thead>\n  <tbody>\n    <tr>\n      <th>0</th>\n      <td>Laurensberg</td>\n      <td>7,71 Euro</td>\n      <td>10662</td>\n    </tr>\n    <tr>\n      <th>1</th>\n      <td>Vaalserquartier</td>\n      <td>7,57 Euro</td>\n      <td>10068</td>\n    </tr>\n    <tr>\n      <th>2</th>\n      <td>Richterich</td>\n      <td>6,93 Euro</td>\n      <td>8680</td>\n    </tr>\n    <tr>\n      <th>3</th>\n      <td>Brand</td>\n      <td>6,84 Euro</td>\n      <td>17247</td>\n    </tr>\n    <tr>\n      <th>4</th>\n      <td>Haaren</td>\n      <td>6,65 Euro</td>\n      <td>12535</td>\n    </tr>\n  </tbody>\n</table>\n</div>",
                        "text/plain": "          District     Charge  People\n0      Laurensberg  7,71 Euro   10662\n1  Vaalserquartier  7,57 Euro   10068\n2       Richterich  6,93 Euro    8680\n3            Brand  6,84 Euro   17247\n4           Haaren  6,65 Euro   12535"
                    },
                    "execution_count": 579,
                    "metadata": {},
                    "output_type": "execute_result"
                }
            ],
            "source": "# Merging dataframes for rental prices and amount of people\ntest = pd.merge(rent, pop_dis, on ='District')\ntest.head()"
        },
        {
            "cell_type": "markdown",
            "metadata": {},
            "source": "# Conclusion:"
        },
        {
            "cell_type": "markdown",
            "metadata": {},
            "source": "The largest market in Aachen in terms of types of venues consists of Bars, Bakeries and Caf\u00e9s. This is probably the case due to the high amount of people between 20 and 34 which make up more than 30% of the population(more than 80000 in total). Since most people do not live directly in the center of the city opening a store in different regions in order to save rental fees should not be a concern. "
        },
        {
            "cell_type": "code",
            "execution_count": null,
            "metadata": {},
            "outputs": [],
            "source": ""
        }
    ],
    "metadata": {
        "kernelspec": {
            "display_name": "Python 3.6",
            "language": "python",
            "name": "python3"
        },
        "language_info": {
            "codemirror_mode": {
                "name": "ipython",
                "version": 3
            },
            "file_extension": ".py",
            "mimetype": "text/x-python",
            "name": "python",
            "nbconvert_exporter": "python",
            "pygments_lexer": "ipython3",
            "version": "3.6.9"
        }
    },
    "nbformat": 4,
    "nbformat_minor": 2
}