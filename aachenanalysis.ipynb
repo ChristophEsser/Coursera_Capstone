{
    "cells": [
        {
            "cell_type": "markdown",
            "metadata": {},
            "source": "# Analysis on Aachen"
        },
        {
            "cell_type": "markdown",
            "metadata": {},
            "source": "### First of all I am importing/installing the necessary libraries"
        },
        {
            "cell_type": "code",
            "execution_count": 29,
            "metadata": {
                "scrolled": true
            },
            "outputs": [
                {
                    "name": "stdout",
                    "output_type": "stream",
                    "text": "Libraries imported.\n"
                }
            ],
            "source": "#Import libraries\n\nimport pandas as pd\nimport numpy as np\nimport json\nimport geojson\nfrom pandas.io.json import json_normalize\nimport io\nimport requests\n\nfrom bs4 import BeautifulSoup\n\n#!conda install -c conda-forge geopy --yes\nfrom geopy.geocoders import Nominatim\n\nimport matplotlib.cm as cm\nimport matplotlib.colors as colors\n\n#!conda install -c conda-forge folium=0.5.0 --yes\n#import folium\nprint('Libraries imported.')"
        },
        {
            "cell_type": "markdown",
            "metadata": {},
            "source": "### Find the coordinates of Aachen"
        },
        {
            "cell_type": "code",
            "execution_count": 5,
            "metadata": {
                "scrolled": true
            },
            "outputs": [
                {
                    "name": "stdout",
                    "output_type": "stream",
                    "text": "The geograpical coordinate of Aachen are 50.776351, 6.083862.\n"
                }
            ],
            "source": "address = 'Aachen, DE'\n\ngeolocator = Nominatim(user_agent=\"Aachen\")\nlocation = geolocator.geocode(address)\nlatitude = location.latitude\nlongitude = location.longitude\nprint('The geograpical coordinate of Aachen are {}, {}.'.format(latitude, longitude))"
        },
        {
            "cell_type": "code",
            "execution_count": 7,
            "metadata": {
                "scrolled": true
            },
            "outputs": [],
            "source": "# create map of Aachen using latitude and longitude values\nmap_aachen = folium.Map(location=[latitude, longitude], zoom_start=15)\nmap_aachen"
        },
        {
            "cell_type": "markdown",
            "metadata": {},
            "source": "### Websearch of all districts"
        },
        {
            "cell_type": "code",
            "execution_count": 8,
            "metadata": {
                "scrolled": true
            },
            "outputs": [
                {
                    "data": {
                        "text/html": "<div>\n<style scoped>\n    .dataframe tbody tr th:only-of-type {\n        vertical-align: middle;\n    }\n\n    .dataframe tbody tr th {\n        vertical-align: top;\n    }\n\n    .dataframe thead th {\n        text-align: right;\n    }\n</style>\n<table border=\"1\" class=\"dataframe\">\n  <thead>\n    <tr style=\"text-align: right;\">\n      <th></th>\n      <th>Post Code</th>\n      <th>District</th>\n      <th>Street</th>\n    </tr>\n  </thead>\n  <tbody>\n    <tr>\n      <th>0</th>\n      <td>52062</td>\n      <td>Aachen Aachen</td>\n      <td>Hirschgraben</td>\n    </tr>\n    <tr>\n      <th>1</th>\n      <td>52062</td>\n      <td>Aachen Aachen</td>\n      <td>Hermannstr.</td>\n    </tr>\n    <tr>\n      <th>2</th>\n      <td>52062</td>\n      <td>Aachen Aachen</td>\n      <td>Pontdriesch</td>\n    </tr>\n    <tr>\n      <th>3</th>\n      <td>52062</td>\n      <td>Aachen Aachen</td>\n      <td>Mostardstr.</td>\n    </tr>\n    <tr>\n      <th>4</th>\n      <td>52062</td>\n      <td>Aachen Aachen</td>\n      <td>M\u00fcnsterplatz</td>\n    </tr>\n  </tbody>\n</table>\n</div>",
                        "text/plain": "   Post Code       District        Street\n0      52062  Aachen Aachen  Hirschgraben\n1      52062  Aachen Aachen   Hermannstr.\n2      52062  Aachen Aachen   Pontdriesch\n3      52062  Aachen Aachen   Mostardstr.\n4      52062  Aachen Aachen  M\u00fcnsterplatz"
                    },
                    "execution_count": 8,
                    "metadata": {},
                    "output_type": "execute_result"
                }
            ],
            "source": "site = 'http://postleitzahlen.woxikon.de/plz/aachen'\npage = requests.get(site)\nsoup = BeautifulSoup(page.content, 'lxml')\n#print(soup.prettify())\ntable = soup.find_all('table')[0]\n#print(table.prettify())\n\n\npostaltable = pd.read_html(str(table))\npostal = pd.DataFrame(postaltable[0])\npostal.columns = ['Post Code','District','Street']\npostal.head()"
        },
        {
            "cell_type": "markdown",
            "metadata": {},
            "source": "### Dropping the street column & duplicates"
        },
        {
            "cell_type": "code",
            "execution_count": 9,
            "metadata": {},
            "outputs": [
                {
                    "data": {
                        "text/plain": "(1473, 2)"
                    },
                    "execution_count": 9,
                    "metadata": {},
                    "output_type": "execute_result"
                }
            ],
            "source": "postal = postal.drop(columns = ['Street'], axis = 1)\npostal.shape"
        },
        {
            "cell_type": "code",
            "execution_count": 234,
            "metadata": {
                "scrolled": true
            },
            "outputs": [
                {
                    "data": {
                        "text/html": "<div>\n<style scoped>\n    .dataframe tbody tr th:only-of-type {\n        vertical-align: middle;\n    }\n\n    .dataframe tbody tr th {\n        vertical-align: top;\n    }\n\n    .dataframe thead th {\n        text-align: right;\n    }\n</style>\n<table border=\"1\" class=\"dataframe\">\n  <thead>\n    <tr style=\"text-align: right;\">\n      <th></th>\n      <th>Post Code</th>\n      <th>District</th>\n    </tr>\n  </thead>\n  <tbody>\n    <tr>\n      <th>0</th>\n      <td>52062</td>\n      <td>Aachen Aachen</td>\n    </tr>\n    <tr>\n      <th>1</th>\n      <td>52062</td>\n      <td>Aachen</td>\n    </tr>\n    <tr>\n      <th>2</th>\n      <td>52064</td>\n      <td>Aachen Aachen</td>\n    </tr>\n    <tr>\n      <th>3</th>\n      <td>52066</td>\n      <td>Aachen Aachen</td>\n    </tr>\n    <tr>\n      <th>4</th>\n      <td>52068</td>\n      <td>Aachen Aachen</td>\n    </tr>\n  </tbody>\n</table>\n</div>",
                        "text/plain": "   Post Code       District\n0      52062  Aachen Aachen\n1      52062         Aachen\n2      52064  Aachen Aachen\n3      52066  Aachen Aachen\n4      52068  Aachen Aachen"
                    },
                    "execution_count": 234,
                    "metadata": {},
                    "output_type": "execute_result"
                }
            ],
            "source": "postal_copy = postal\naachen_grouped = postal_copy.drop_duplicates().reset_index(drop = True)\naachen_grouped.head()"
        },
        {
            "cell_type": "markdown",
            "metadata": {},
            "source": "### Dropping duplicate rows (analysed by manual search)\n#### some post codes are used multiple times for different districs | in order to simplify i dropped them"
        },
        {
            "cell_type": "code",
            "execution_count": 193,
            "metadata": {},
            "outputs": [
                {
                    "data": {
                        "text/html": "<div>\n<style scoped>\n    .dataframe tbody tr th:only-of-type {\n        vertical-align: middle;\n    }\n\n    .dataframe tbody tr th {\n        vertical-align: top;\n    }\n\n    .dataframe thead th {\n        text-align: right;\n    }\n</style>\n<table border=\"1\" class=\"dataframe\">\n  <thead>\n    <tr style=\"text-align: right;\">\n      <th></th>\n      <th>Post Code</th>\n      <th>District</th>\n    </tr>\n  </thead>\n  <tbody>\n    <tr>\n      <th>0</th>\n      <td>52062</td>\n      <td>Aachen Aachen</td>\n    </tr>\n    <tr>\n      <th>1</th>\n      <td>52064</td>\n      <td>Aachen Aachen</td>\n    </tr>\n    <tr>\n      <th>2</th>\n      <td>52066</td>\n      <td>Aachen Aachen</td>\n    </tr>\n    <tr>\n      <th>3</th>\n      <td>52068</td>\n      <td>Aachen Haaren</td>\n    </tr>\n    <tr>\n      <th>4</th>\n      <td>52070</td>\n      <td>Aachen Laurensberg</td>\n    </tr>\n    <tr>\n      <th>5</th>\n      <td>52072</td>\n      <td>Aachen Richterich</td>\n    </tr>\n    <tr>\n      <th>6</th>\n      <td>52074</td>\n      <td>Aachen Vaalserquartier</td>\n    </tr>\n    <tr>\n      <th>7</th>\n      <td>52076</td>\n      <td>Aachen Brand</td>\n    </tr>\n    <tr>\n      <th>8</th>\n      <td>52078</td>\n      <td>Aachen Eilendorf</td>\n    </tr>\n    <tr>\n      <th>9</th>\n      <td>52080</td>\n      <td>Aachen Verlautenheide</td>\n    </tr>\n  </tbody>\n</table>\n</div>",
                        "text/plain": "   Post Code                District\n0      52062           Aachen Aachen\n1      52064           Aachen Aachen\n2      52066           Aachen Aachen\n3      52068           Aachen Haaren\n4      52070      Aachen Laurensberg\n5      52072       Aachen Richterich\n6      52074  Aachen Vaalserquartier\n7      52076            Aachen Brand\n8      52078        Aachen Eilendorf\n9      52080   Aachen Verlautenheide"
                    },
                    "execution_count": 193,
                    "metadata": {},
                    "output_type": "execute_result"
                }
            ],
            "source": "aachen_grouped.drop(aachen_grouped.index[[1,4,6,7,9,10,11,13,14,15,16,18,19,20,21,22,23,24,25,26,27,28,29,30,32,33,34,35,38,39]], inplace = True)\naachen_grouped.reset_index(drop = True)"
        },
        {
            "cell_type": "markdown",
            "metadata": {},
            "source": "### Searching for the coordinates of each distict"
        },
        {
            "cell_type": "code",
            "execution_count": 37,
            "metadata": {
                "scrolled": true
            },
            "outputs": [
                {
                    "data": {
                        "text/html": "<div>\n<style scoped>\n    .dataframe tbody tr th:only-of-type {\n        vertical-align: middle;\n    }\n\n    .dataframe tbody tr th {\n        vertical-align: top;\n    }\n\n    .dataframe thead th {\n        text-align: right;\n    }\n</style>\n<table border=\"1\" class=\"dataframe\">\n  <thead>\n    <tr style=\"text-align: right;\">\n      <th></th>\n      <th>datasetid</th>\n      <th>fields</th>\n      <th>geometry</th>\n      <th>record_timestamp</th>\n      <th>recordid</th>\n    </tr>\n  </thead>\n  <tbody>\n    <tr>\n      <th>0</th>\n      <td>postleitzahlen-deutschland</td>\n      <td>{'note': 'Aachen', 'geo_shape': {'type': 'Poly...</td>\n      <td>{'type': 'Point', 'coordinates': [6.1259155957...</td>\n      <td>2017-03-25T07:26:36.889+01:00</td>\n      <td>97b93a1e3172a0448d7f9d6ce60fc016e6e5c7e0</td>\n    </tr>\n    <tr>\n      <th>1</th>\n      <td>postleitzahlen-deutschland</td>\n      <td>{'note': 'Aachen', 'geo_shape': {'type': 'Poly...</td>\n      <td>{'type': 'Point', 'coordinates': [6.1498836797...</td>\n      <td>2017-03-25T07:26:36.889+01:00</td>\n      <td>09d97726595374de948585eab7cc96db1b0669fc</td>\n    </tr>\n    <tr>\n      <th>2</th>\n      <td>postleitzahlen-deutschland</td>\n      <td>{'note': 'Aachen', 'geo_shape': {'type': 'Poly...</td>\n      <td>{'type': 'Point', 'coordinates': [6.0864692223...</td>\n      <td>2017-03-25T07:26:36.889+01:00</td>\n      <td>0ea5f1e6700d74908ce423605c67864ddf78770c</td>\n    </tr>\n    <tr>\n      <th>3</th>\n      <td>postleitzahlen-deutschland</td>\n      <td>{'note': 'Aachen', 'geo_shape': {'type': 'Poly...</td>\n      <td>{'type': 'Point', 'coordinates': [6.0497212116...</td>\n      <td>2017-03-25T07:26:36.889+01:00</td>\n      <td>e970ae2a324485fefb2c2e4f732d6cea303432ae</td>\n    </tr>\n    <tr>\n      <th>4</th>\n      <td>postleitzahlen-deutschland</td>\n      <td>{'note': 'Aachen', 'geo_shape': {'type': 'Poly...</td>\n      <td>{'type': 'Point', 'coordinates': [6.1614222098...</td>\n      <td>2017-03-25T07:26:36.889+01:00</td>\n      <td>ac87580927fd4b8f588887c52540ede89412c003</td>\n    </tr>\n    <tr>\n      <th>5</th>\n      <td>postleitzahlen-deutschland</td>\n      <td>{'note': 'Aachen', 'geo_shape': {'type': 'Poly...</td>\n      <td>{'type': 'Point', 'coordinates': [6.0785687250...</td>\n      <td>2017-03-25T07:26:36.889+01:00</td>\n      <td>07c4d4fe6c9bf50767465c67c4fece6c378e0298</td>\n    </tr>\n    <tr>\n      <th>6</th>\n      <td>postleitzahlen-deutschland</td>\n      <td>{'note': 'Aachen', 'geo_shape': {'type': 'Poly...</td>\n      <td>{'type': 'Point', 'coordinates': [6.1048022780...</td>\n      <td>2017-03-25T07:26:36.889+01:00</td>\n      <td>08910aebf6fdb532504e2d7067379df1ca4fcd28</td>\n    </tr>\n    <tr>\n      <th>7</th>\n      <td>postleitzahlen-deutschland</td>\n      <td>{'note': 'Aachen', 'geo_shape': {'type': 'Poly...</td>\n      <td>{'type': 'Point', 'coordinates': [6.0363417368...</td>\n      <td>2017-03-25T07:26:36.889+01:00</td>\n      <td>5a3c50a030c84479febace9ca5035d1c68fedb5e</td>\n    </tr>\n    <tr>\n      <th>8</th>\n      <td>postleitzahlen-deutschland</td>\n      <td>{'note': 'Aachen', 'geo_shape': {'type': 'Poly...</td>\n      <td>{'type': 'Point', 'coordinates': [6.0962483777...</td>\n      <td>2017-03-25T07:26:36.889+01:00</td>\n      <td>16f2a6337abddd32ff609711375da7d05a67190c</td>\n    </tr>\n    <tr>\n      <th>9</th>\n      <td>postleitzahlen-deutschland</td>\n      <td>{'note': 'Aachen', 'geo_shape': {'type': 'Poly...</td>\n      <td>{'type': 'Point', 'coordinates': [6.1596628377...</td>\n      <td>2017-03-25T07:26:36.889+01:00</td>\n      <td>66fe9a2c25bfe0400e6e625934c127d206ec8a09</td>\n    </tr>\n  </tbody>\n</table>\n</div>",
                        "text/plain": "                    datasetid  \\\n0  postleitzahlen-deutschland   \n1  postleitzahlen-deutschland   \n2  postleitzahlen-deutschland   \n3  postleitzahlen-deutschland   \n4  postleitzahlen-deutschland   \n5  postleitzahlen-deutschland   \n6  postleitzahlen-deutschland   \n7  postleitzahlen-deutschland   \n8  postleitzahlen-deutschland   \n9  postleitzahlen-deutschland   \n\n                                              fields  \\\n0  {'note': 'Aachen', 'geo_shape': {'type': 'Poly...   \n1  {'note': 'Aachen', 'geo_shape': {'type': 'Poly...   \n2  {'note': 'Aachen', 'geo_shape': {'type': 'Poly...   \n3  {'note': 'Aachen', 'geo_shape': {'type': 'Poly...   \n4  {'note': 'Aachen', 'geo_shape': {'type': 'Poly...   \n5  {'note': 'Aachen', 'geo_shape': {'type': 'Poly...   \n6  {'note': 'Aachen', 'geo_shape': {'type': 'Poly...   \n7  {'note': 'Aachen', 'geo_shape': {'type': 'Poly...   \n8  {'note': 'Aachen', 'geo_shape': {'type': 'Poly...   \n9  {'note': 'Aachen', 'geo_shape': {'type': 'Poly...   \n\n                                            geometry  \\\n0  {'type': 'Point', 'coordinates': [6.1259155957...   \n1  {'type': 'Point', 'coordinates': [6.1498836797...   \n2  {'type': 'Point', 'coordinates': [6.0864692223...   \n3  {'type': 'Point', 'coordinates': [6.0497212116...   \n4  {'type': 'Point', 'coordinates': [6.1614222098...   \n5  {'type': 'Point', 'coordinates': [6.0785687250...   \n6  {'type': 'Point', 'coordinates': [6.1048022780...   \n7  {'type': 'Point', 'coordinates': [6.0363417368...   \n8  {'type': 'Point', 'coordinates': [6.0962483777...   \n9  {'type': 'Point', 'coordinates': [6.1596628377...   \n\n                record_timestamp                                  recordid  \n0  2017-03-25T07:26:36.889+01:00  97b93a1e3172a0448d7f9d6ce60fc016e6e5c7e0  \n1  2017-03-25T07:26:36.889+01:00  09d97726595374de948585eab7cc96db1b0669fc  \n2  2017-03-25T07:26:36.889+01:00  0ea5f1e6700d74908ce423605c67864ddf78770c  \n3  2017-03-25T07:26:36.889+01:00  e970ae2a324485fefb2c2e4f732d6cea303432ae  \n4  2017-03-25T07:26:36.889+01:00  ac87580927fd4b8f588887c52540ede89412c003  \n5  2017-03-25T07:26:36.889+01:00  07c4d4fe6c9bf50767465c67c4fece6c378e0298  \n6  2017-03-25T07:26:36.889+01:00  08910aebf6fdb532504e2d7067379df1ca4fcd28  \n7  2017-03-25T07:26:36.889+01:00  5a3c50a030c84479febace9ca5035d1c68fedb5e  \n8  2017-03-25T07:26:36.889+01:00  16f2a6337abddd32ff609711375da7d05a67190c  \n9  2017-03-25T07:26:36.889+01:00  66fe9a2c25bfe0400e6e625934c127d206ec8a09  "
                    },
                    "execution_count": 37,
                    "metadata": {},
                    "output_type": "execute_result"
                }
            ],
            "source": "postcodesite = 'https://public.opendatasoft.com/explore/dataset/postleitzahlen-deutschland/download/?format=json&refine.note=Aachen&timezone=Europe/Berlin&lang=en'\n\npostcodedf = pd.read_json(postcodesite)\npostcodedf"
        },
        {
            "cell_type": "code",
            "execution_count": 159,
            "metadata": {},
            "outputs": [
                {
                    "data": {
                        "text/plain": "(10, 5)"
                    },
                    "execution_count": 159,
                    "metadata": {},
                    "output_type": "execute_result"
                }
            ],
            "source": "postcodedf.shape"
        },
        {
            "cell_type": "markdown",
            "metadata": {},
            "source": "### Accessing the relevant information of the first row as example"
        },
        {
            "cell_type": "code",
            "execution_count": 58,
            "metadata": {},
            "outputs": [
                {
                    "data": {
                        "text/plain": "[6.125915595722462, 50.77975301879342]"
                    },
                    "execution_count": 58,
                    "metadata": {},
                    "output_type": "execute_result"
                }
            ],
            "source": "postcodedf['geometry'][0]['coordinates']"
        },
        {
            "cell_type": "code",
            "execution_count": 67,
            "metadata": {},
            "outputs": [
                {
                    "data": {
                        "text/plain": "'52068'"
                    },
                    "execution_count": 67,
                    "metadata": {},
                    "output_type": "execute_result"
                }
            ],
            "source": "postcodedf['fields'][0]['plz']"
        },
        {
            "cell_type": "code",
            "execution_count": 233,
            "metadata": {},
            "outputs": [],
            "source": "#postcodedf['fields'][0]['geo_shape']['coordinates'][0]"
        },
        {
            "cell_type": "code",
            "execution_count": 204,
            "metadata": {},
            "outputs": [
                {
                    "data": {
                        "text/html": "<div>\n<style scoped>\n    .dataframe tbody tr th:only-of-type {\n        vertical-align: middle;\n    }\n\n    .dataframe tbody tr th {\n        vertical-align: top;\n    }\n\n    .dataframe thead th {\n        text-align: right;\n    }\n</style>\n<table border=\"1\" class=\"dataframe\">\n  <thead>\n    <tr style=\"text-align: right;\">\n      <th></th>\n      <th>Post Code</th>\n      <th>Latitude</th>\n      <th>Longitude</th>\n      <th>Geometry</th>\n    </tr>\n  </thead>\n  <tbody>\n  </tbody>\n</table>\n</div>",
                        "text/plain": "Empty DataFrame\nColumns: [Post Code, Latitude, Longitude, Geometry]\nIndex: []"
                    },
                    "execution_count": 204,
                    "metadata": {},
                    "output_type": "execute_result"
                }
            ],
            "source": "# define the dataframe columns\npost_names = ['Post Code', 'Latitude', 'Longitude','Geometry'] \n\n# instantiate the dataframe\npostdf = pd.DataFrame(columns=post_names)\npostdf"
        },
        {
            "cell_type": "markdown",
            "metadata": {},
            "source": "### Looping through the dataframe to extract the relevant information & sort the dataframe on Post Code"
        },
        {
            "cell_type": "code",
            "execution_count": 205,
            "metadata": {},
            "outputs": [
                {
                    "data": {
                        "text/html": "<div>\n<style scoped>\n    .dataframe tbody tr th:only-of-type {\n        vertical-align: middle;\n    }\n\n    .dataframe tbody tr th {\n        vertical-align: top;\n    }\n\n    .dataframe thead th {\n        text-align: right;\n    }\n</style>\n<table border=\"1\" class=\"dataframe\">\n  <thead>\n    <tr style=\"text-align: right;\">\n      <th></th>\n      <th>Post Code</th>\n      <th>Latitude</th>\n      <th>Longitude</th>\n      <th>Geometry</th>\n    </tr>\n  </thead>\n  <tbody>\n    <tr>\n      <th>0</th>\n      <td>52062</td>\n      <td>50.777065</td>\n      <td>6.086469</td>\n      <td>[[6.0746397, 50.778233399999976], [6.0755047, ...</td>\n    </tr>\n    <tr>\n      <th>1</th>\n      <td>52064</td>\n      <td>50.767342</td>\n      <td>6.078569</td>\n      <td>[[6.061015, 50.76446859999999], [6.0612398, 50...</td>\n    </tr>\n    <tr>\n      <th>2</th>\n      <td>52066</td>\n      <td>50.757600</td>\n      <td>6.104802</td>\n      <td>[[6.0720627, 50.75066249999998], [6.0732045, 5...</td>\n    </tr>\n    <tr>\n      <th>3</th>\n      <td>52068</td>\n      <td>50.779753</td>\n      <td>6.125916</td>\n      <td>[[6.1008512, 50.77993449999999], [6.103057, 50...</td>\n    </tr>\n    <tr>\n      <th>4</th>\n      <td>52070</td>\n      <td>50.793840</td>\n      <td>6.096248</td>\n      <td>[[6.0704272, 50.79009389999999], [6.0707235, 5...</td>\n    </tr>\n    <tr>\n      <th>5</th>\n      <td>52072</td>\n      <td>50.821910</td>\n      <td>6.049721</td>\n      <td>[[6.0159425, 50.83879619999998], [6.0189456, 5...</td>\n    </tr>\n    <tr>\n      <th>6</th>\n      <td>52074</td>\n      <td>50.773768</td>\n      <td>6.036342</td>\n      <td>[[5.9748624, 50.7980367], [5.974951, 50.798094...</td>\n    </tr>\n    <tr>\n      <th>7</th>\n      <td>52076</td>\n      <td>50.715195</td>\n      <td>6.149884</td>\n      <td>[[6.0592867, 50.740119599999986], [6.0617563, ...</td>\n    </tr>\n    <tr>\n      <th>8</th>\n      <td>52078</td>\n      <td>50.757029</td>\n      <td>6.161422</td>\n      <td>[[6.1172781, 50.7700921], [6.1174023, 50.77054...</td>\n    </tr>\n    <tr>\n      <th>9</th>\n      <td>52080</td>\n      <td>50.787902</td>\n      <td>6.159663</td>\n      <td>[[6.109553, 50.8024282], [6.1111558, 50.804500...</td>\n    </tr>\n  </tbody>\n</table>\n</div>",
                        "text/plain": "  Post Code   Latitude  Longitude  \\\n0     52062  50.777065   6.086469   \n1     52064  50.767342   6.078569   \n2     52066  50.757600   6.104802   \n3     52068  50.779753   6.125916   \n4     52070  50.793840   6.096248   \n5     52072  50.821910   6.049721   \n6     52074  50.773768   6.036342   \n7     52076  50.715195   6.149884   \n8     52078  50.757029   6.161422   \n9     52080  50.787902   6.159663   \n\n                                            Geometry  \n0  [[6.0746397, 50.778233399999976], [6.0755047, ...  \n1  [[6.061015, 50.76446859999999], [6.0612398, 50...  \n2  [[6.0720627, 50.75066249999998], [6.0732045, 5...  \n3  [[6.1008512, 50.77993449999999], [6.103057, 50...  \n4  [[6.0704272, 50.79009389999999], [6.0707235, 5...  \n5  [[6.0159425, 50.83879619999998], [6.0189456, 5...  \n6  [[5.9748624, 50.7980367], [5.974951, 50.798094...  \n7  [[6.0592867, 50.740119599999986], [6.0617563, ...  \n8  [[6.1172781, 50.7700921], [6.1174023, 50.77054...  \n9  [[6.109553, 50.8024282], [6.1111558, 50.804500...  "
                    },
                    "execution_count": 205,
                    "metadata": {},
                    "output_type": "execute_result"
                }
            ],
            "source": "r, c = postcodedf.shape\nfor i in range(r):\n    new_row = pd.Series(data={'Post Code': postcodedf['fields'][i]['plz'], 'Latitude': postcodedf['geometry'][i]['coordinates'][1], 'Longitude': postcodedf['geometry'][i]['coordinates'][0], 'Geometry': postcodedf['fields'][i]['geo_shape']['coordinates'][0]})\n    postdf = postdf.append(new_row, ignore_index=True)\n    #print(new_row)\n#postdf\npostdf_sorted = postdf.sort_values('Post Code')\npostdf_sorted.reset_index(drop = True)"
        },
        {
            "cell_type": "markdown",
            "metadata": {},
            "source": "### Combining the dataframes"
        },
        {
            "cell_type": "code",
            "execution_count": 227,
            "metadata": {},
            "outputs": [
                {
                    "data": {
                        "text/plain": "Post Code     int64\nDistrict     object\ndtype: object"
                    },
                    "execution_count": 227,
                    "metadata": {},
                    "output_type": "execute_result"
                }
            ],
            "source": "aachen_grouped.dtypes"
        },
        {
            "cell_type": "code",
            "execution_count": 218,
            "metadata": {},
            "outputs": [
                {
                    "data": {
                        "text/plain": "Post Code     object\nLatitude     float64\nLongitude    float64\nGeometry      object\ndtype: object"
                    },
                    "execution_count": 218,
                    "metadata": {},
                    "output_type": "execute_result"
                }
            ],
            "source": "postdf_sorted.dtypes"
        },
        {
            "cell_type": "markdown",
            "metadata": {},
            "source": "#### Here we can see that Post Code is stored in different datatypes, so I changed one to int64"
        },
        {
            "cell_type": "code",
            "execution_count": 231,
            "metadata": {},
            "outputs": [],
            "source": "postdf_sorted['Post Code'] = postdf_sorted['Post Code'].astype(int)"
        },
        {
            "cell_type": "markdown",
            "metadata": {},
            "source": "#### Merging the dataframes"
        },
        {
            "cell_type": "code",
            "execution_count": 230,
            "metadata": {
                "scrolled": true
            },
            "outputs": [
                {
                    "data": {
                        "text/html": "<div>\n<style scoped>\n    .dataframe tbody tr th:only-of-type {\n        vertical-align: middle;\n    }\n\n    .dataframe tbody tr th {\n        vertical-align: top;\n    }\n\n    .dataframe thead th {\n        text-align: right;\n    }\n</style>\n<table border=\"1\" class=\"dataframe\">\n  <thead>\n    <tr style=\"text-align: right;\">\n      <th></th>\n      <th>Post Code</th>\n      <th>District</th>\n      <th>Latitude</th>\n      <th>Longitude</th>\n      <th>Geometry</th>\n    </tr>\n  </thead>\n  <tbody>\n    <tr>\n      <th>0</th>\n      <td>52062</td>\n      <td>Aachen Aachen</td>\n      <td>50.777065</td>\n      <td>6.086469</td>\n      <td>[[6.0746397, 50.778233399999976], [6.0755047, ...</td>\n    </tr>\n    <tr>\n      <th>1</th>\n      <td>52064</td>\n      <td>Aachen Aachen</td>\n      <td>50.767342</td>\n      <td>6.078569</td>\n      <td>[[6.061015, 50.76446859999999], [6.0612398, 50...</td>\n    </tr>\n    <tr>\n      <th>2</th>\n      <td>52066</td>\n      <td>Aachen Aachen</td>\n      <td>50.757600</td>\n      <td>6.104802</td>\n      <td>[[6.0720627, 50.75066249999998], [6.0732045, 5...</td>\n    </tr>\n    <tr>\n      <th>3</th>\n      <td>52068</td>\n      <td>Aachen Haaren</td>\n      <td>50.779753</td>\n      <td>6.125916</td>\n      <td>[[6.1008512, 50.77993449999999], [6.103057, 50...</td>\n    </tr>\n    <tr>\n      <th>4</th>\n      <td>52070</td>\n      <td>Aachen Laurensberg</td>\n      <td>50.793840</td>\n      <td>6.096248</td>\n      <td>[[6.0704272, 50.79009389999999], [6.0707235, 5...</td>\n    </tr>\n    <tr>\n      <th>5</th>\n      <td>52072</td>\n      <td>Aachen Richterich</td>\n      <td>50.821910</td>\n      <td>6.049721</td>\n      <td>[[6.0159425, 50.83879619999998], [6.0189456, 5...</td>\n    </tr>\n    <tr>\n      <th>6</th>\n      <td>52074</td>\n      <td>Aachen Vaalserquartier</td>\n      <td>50.773768</td>\n      <td>6.036342</td>\n      <td>[[5.9748624, 50.7980367], [5.974951, 50.798094...</td>\n    </tr>\n    <tr>\n      <th>7</th>\n      <td>52076</td>\n      <td>Aachen Brand</td>\n      <td>50.715195</td>\n      <td>6.149884</td>\n      <td>[[6.0592867, 50.740119599999986], [6.0617563, ...</td>\n    </tr>\n    <tr>\n      <th>8</th>\n      <td>52078</td>\n      <td>Aachen Eilendorf</td>\n      <td>50.757029</td>\n      <td>6.161422</td>\n      <td>[[6.1172781, 50.7700921], [6.1174023, 50.77054...</td>\n    </tr>\n    <tr>\n      <th>9</th>\n      <td>52080</td>\n      <td>Aachen Verlautenheide</td>\n      <td>50.787902</td>\n      <td>6.159663</td>\n      <td>[[6.109553, 50.8024282], [6.1111558, 50.804500...</td>\n    </tr>\n  </tbody>\n</table>\n</div>",
                        "text/plain": "   Post Code                District   Latitude  Longitude  \\\n0      52062           Aachen Aachen  50.777065   6.086469   \n1      52064           Aachen Aachen  50.767342   6.078569   \n2      52066           Aachen Aachen  50.757600   6.104802   \n3      52068           Aachen Haaren  50.779753   6.125916   \n4      52070      Aachen Laurensberg  50.793840   6.096248   \n5      52072       Aachen Richterich  50.821910   6.049721   \n6      52074  Aachen Vaalserquartier  50.773768   6.036342   \n7      52076            Aachen Brand  50.715195   6.149884   \n8      52078        Aachen Eilendorf  50.757029   6.161422   \n9      52080   Aachen Verlautenheide  50.787902   6.159663   \n\n                                            Geometry  \n0  [[6.0746397, 50.778233399999976], [6.0755047, ...  \n1  [[6.061015, 50.76446859999999], [6.0612398, 50...  \n2  [[6.0720627, 50.75066249999998], [6.0732045, 5...  \n3  [[6.1008512, 50.77993449999999], [6.103057, 50...  \n4  [[6.0704272, 50.79009389999999], [6.0707235, 5...  \n5  [[6.0159425, 50.83879619999998], [6.0189456, 5...  \n6  [[5.9748624, 50.7980367], [5.974951, 50.798094...  \n7  [[6.0592867, 50.740119599999986], [6.0617563, ...  \n8  [[6.1172781, 50.7700921], [6.1174023, 50.77054...  \n9  [[6.109553, 50.8024282], [6.1111558, 50.804500...  "
                    },
                    "execution_count": 230,
                    "metadata": {},
                    "output_type": "execute_result"
                }
            ],
            "source": "aachendf = pd.merge(aachen_grouped,postdf_sorted)\naachendf"
        },
        {
            "cell_type": "markdown",
            "metadata": {},
            "source": "### Define the url with personal id&secret in a hidden cell to call the foursquare api\n#### unfortunately only 100 requests can be made"
        },
        {
            "cell_type": "code",
            "execution_count": 11,
            "metadata": {},
            "outputs": [],
            "source": "# The code was removed by Watson Studio for sharing."
        },
        {
            "cell_type": "markdown",
            "metadata": {},
            "source": "### Send the GET Request"
        },
        {
            "cell_type": "code",
            "execution_count": 235,
            "metadata": {},
            "outputs": [],
            "source": "results = requests.get(url).json()"
        },
        {
            "cell_type": "markdown",
            "metadata": {},
            "source": "### Creating a Dataframe with all venues"
        },
        {
            "cell_type": "code",
            "execution_count": 236,
            "metadata": {},
            "outputs": [
                {
                    "data": {
                        "text/html": "<div>\n<style scoped>\n    .dataframe tbody tr th:only-of-type {\n        vertical-align: middle;\n    }\n\n    .dataframe tbody tr th {\n        vertical-align: top;\n    }\n\n    .dataframe thead th {\n        text-align: right;\n    }\n</style>\n<table border=\"1\" class=\"dataframe\">\n  <thead>\n    <tr style=\"text-align: right;\">\n      <th></th>\n      <th>reasons.count</th>\n      <th>reasons.items</th>\n      <th>referralId</th>\n      <th>venue.categories</th>\n      <th>venue.id</th>\n      <th>venue.location.address</th>\n      <th>venue.location.cc</th>\n      <th>venue.location.city</th>\n      <th>venue.location.country</th>\n      <th>venue.location.crossStreet</th>\n      <th>...</th>\n      <th>venue.location.formattedAddress</th>\n      <th>venue.location.labeledLatLngs</th>\n      <th>venue.location.lat</th>\n      <th>venue.location.lng</th>\n      <th>venue.location.postalCode</th>\n      <th>venue.location.state</th>\n      <th>venue.name</th>\n      <th>venue.photos.count</th>\n      <th>venue.photos.groups</th>\n      <th>venue.venuePage.id</th>\n    </tr>\n  </thead>\n  <tbody>\n    <tr>\n      <th>0</th>\n      <td>0</td>\n      <td>[{'summary': 'This spot is popular', 'type': '...</td>\n      <td>e-0-4bb61ee7ef159c740d7075f7-0</td>\n      <td>[{'id': '4bf58dd8d48988d132941735', 'name': 'C...</td>\n      <td>4bb61ee7ef159c740d7075f7</td>\n      <td>Klosterplatz 2</td>\n      <td>DE</td>\n      <td>Aachen</td>\n      <td>Deutschland</td>\n      <td>NaN</td>\n      <td>...</td>\n      <td>[Klosterplatz 2, 52062 Aachen, Deutschland]</td>\n      <td>[{'label': 'display', 'lat': 50.77470203610213...</td>\n      <td>50.774702</td>\n      <td>6.084103</td>\n      <td>52062</td>\n      <td>Nordrhein-Westfalen</td>\n      <td>Aachener Dom St. Marien</td>\n      <td>0</td>\n      <td>[]</td>\n      <td>NaN</td>\n    </tr>\n    <tr>\n      <th>1</th>\n      <td>0</td>\n      <td>[{'summary': 'This spot is popular', 'type': '...</td>\n      <td>e-0-4cc58565b2beb1f70818234c-1</td>\n      <td>[{'id': '4bf58dd8d48988d164941735', 'name': 'P...</td>\n      <td>4cc58565b2beb1f70818234c</td>\n      <td>Katschhof</td>\n      <td>DE</td>\n      <td>Aachen</td>\n      <td>Deutschland</td>\n      <td>NaN</td>\n      <td>...</td>\n      <td>[Katschhof, 52062 Aachen, Deutschland]</td>\n      <td>[{'label': 'display', 'lat': 50.77561116763609...</td>\n      <td>50.775611</td>\n      <td>6.083909</td>\n      <td>52062</td>\n      <td>Nordrhein-Westfalen</td>\n      <td>Katschhof</td>\n      <td>0</td>\n      <td>[]</td>\n      <td>NaN</td>\n    </tr>\n    <tr>\n      <th>2</th>\n      <td>0</td>\n      <td>[{'summary': 'This spot is popular', 'type': '...</td>\n      <td>e-0-4c926a997f3b8cfa490ea51e-2</td>\n      <td>[{'id': '4bf58dd8d48988d164941735', 'name': 'P...</td>\n      <td>4c926a997f3b8cfa490ea51e</td>\n      <td>Domhof</td>\n      <td>DE</td>\n      <td>Aachen</td>\n      <td>Deutschland</td>\n      <td>NaN</td>\n      <td>...</td>\n      <td>[Domhof, 52062 Aachen, Deutschland]</td>\n      <td>[{'label': 'display', 'lat': 50.77465811299527...</td>\n      <td>50.774658</td>\n      <td>6.083297</td>\n      <td>52062</td>\n      <td>Nordrhein-Westfalen</td>\n      <td>Domhof</td>\n      <td>0</td>\n      <td>[]</td>\n      <td>NaN</td>\n    </tr>\n    <tr>\n      <th>3</th>\n      <td>0</td>\n      <td>[{'summary': 'This spot is popular', 'type': '...</td>\n      <td>e-0-4c44531f74ffc928ee5875cc-3</td>\n      <td>[{'id': '4bf58dd8d48988d10b941735', 'name': 'F...</td>\n      <td>4c44531f74ffc928ee5875cc</td>\n      <td>Pontstr. 1-3</td>\n      <td>DE</td>\n      <td>Aachen</td>\n      <td>Deutschland</td>\n      <td>NaN</td>\n      <td>...</td>\n      <td>[Pontstr. 1-3, 52062 Aachen, Deutschland]</td>\n      <td>[{'label': 'display', 'lat': 50.77696662608818...</td>\n      <td>50.776967</td>\n      <td>6.083277</td>\n      <td>52062</td>\n      <td>Nordrhein-Westfalen</td>\n      <td>AKL</td>\n      <td>0</td>\n      <td>[]</td>\n      <td>NaN</td>\n    </tr>\n    <tr>\n      <th>4</th>\n      <td>0</td>\n      <td>[{'summary': 'This spot is popular', 'type': '...</td>\n      <td>e-0-4c82861751ada1cdfd3b1d10-4</td>\n      <td>[{'id': '4bf58dd8d48988d123941735', 'name': 'W...</td>\n      <td>4c82861751ada1cdfd3b1d10</td>\n      <td>Kockerellstr. 13</td>\n      <td>DE</td>\n      <td>Aachen</td>\n      <td>Deutschland</td>\n      <td>NaN</td>\n      <td>...</td>\n      <td>[Kockerellstr. 13, 52062 Aachen, Deutschland]</td>\n      <td>[{'label': 'display', 'lat': 50.77628844245805...</td>\n      <td>50.776288</td>\n      <td>6.081469</td>\n      <td>52062</td>\n      <td>Nordrhein-Westfalen</td>\n      <td>Vertical Weinbar</td>\n      <td>0</td>\n      <td>[]</td>\n      <td>NaN</td>\n    </tr>\n  </tbody>\n</table>\n<p>5 rows \u00d7 21 columns</p>\n</div>",
                        "text/plain": "   reasons.count                                      reasons.items  \\\n0              0  [{'summary': 'This spot is popular', 'type': '...   \n1              0  [{'summary': 'This spot is popular', 'type': '...   \n2              0  [{'summary': 'This spot is popular', 'type': '...   \n3              0  [{'summary': 'This spot is popular', 'type': '...   \n4              0  [{'summary': 'This spot is popular', 'type': '...   \n\n                       referralId  \\\n0  e-0-4bb61ee7ef159c740d7075f7-0   \n1  e-0-4cc58565b2beb1f70818234c-1   \n2  e-0-4c926a997f3b8cfa490ea51e-2   \n3  e-0-4c44531f74ffc928ee5875cc-3   \n4  e-0-4c82861751ada1cdfd3b1d10-4   \n\n                                    venue.categories  \\\n0  [{'id': '4bf58dd8d48988d132941735', 'name': 'C...   \n1  [{'id': '4bf58dd8d48988d164941735', 'name': 'P...   \n2  [{'id': '4bf58dd8d48988d164941735', 'name': 'P...   \n3  [{'id': '4bf58dd8d48988d10b941735', 'name': 'F...   \n4  [{'id': '4bf58dd8d48988d123941735', 'name': 'W...   \n\n                   venue.id venue.location.address venue.location.cc  \\\n0  4bb61ee7ef159c740d7075f7         Klosterplatz 2                DE   \n1  4cc58565b2beb1f70818234c              Katschhof                DE   \n2  4c926a997f3b8cfa490ea51e                 Domhof                DE   \n3  4c44531f74ffc928ee5875cc           Pontstr. 1-3                DE   \n4  4c82861751ada1cdfd3b1d10       Kockerellstr. 13                DE   \n\n  venue.location.city venue.location.country venue.location.crossStreet  ...  \\\n0              Aachen            Deutschland                        NaN  ...   \n1              Aachen            Deutschland                        NaN  ...   \n2              Aachen            Deutschland                        NaN  ...   \n3              Aachen            Deutschland                        NaN  ...   \n4              Aachen            Deutschland                        NaN  ...   \n\n                 venue.location.formattedAddress  \\\n0    [Klosterplatz 2, 52062 Aachen, Deutschland]   \n1         [Katschhof, 52062 Aachen, Deutschland]   \n2            [Domhof, 52062 Aachen, Deutschland]   \n3      [Pontstr. 1-3, 52062 Aachen, Deutschland]   \n4  [Kockerellstr. 13, 52062 Aachen, Deutschland]   \n\n                       venue.location.labeledLatLngs venue.location.lat  \\\n0  [{'label': 'display', 'lat': 50.77470203610213...          50.774702   \n1  [{'label': 'display', 'lat': 50.77561116763609...          50.775611   \n2  [{'label': 'display', 'lat': 50.77465811299527...          50.774658   \n3  [{'label': 'display', 'lat': 50.77696662608818...          50.776967   \n4  [{'label': 'display', 'lat': 50.77628844245805...          50.776288   \n\n   venue.location.lng  venue.location.postalCode venue.location.state  \\\n0            6.084103                      52062  Nordrhein-Westfalen   \n1            6.083909                      52062  Nordrhein-Westfalen   \n2            6.083297                      52062  Nordrhein-Westfalen   \n3            6.083277                      52062  Nordrhein-Westfalen   \n4            6.081469                      52062  Nordrhein-Westfalen   \n\n                venue.name venue.photos.count  venue.photos.groups  \\\n0  Aachener Dom St. Marien                  0                   []   \n1                Katschhof                  0                   []   \n2                   Domhof                  0                   []   \n3                      AKL                  0                   []   \n4         Vertical Weinbar                  0                   []   \n\n  venue.venuePage.id  \n0                NaN  \n1                NaN  \n2                NaN  \n3                NaN  \n4                NaN  \n\n[5 rows x 21 columns]"
                    },
                    "execution_count": 236,
                    "metadata": {},
                    "output_type": "execute_result"
                }
            ],
            "source": "locations = results['response']['groups'][0]['items']\ndataframe = json_normalize(locations)\ndataframe.head()"
        },
        {
            "cell_type": "code",
            "execution_count": 197,
            "metadata": {},
            "outputs": [
                {
                    "data": {
                        "text/plain": "'Aachener Dom St. Marien'"
                    },
                    "execution_count": 197,
                    "metadata": {},
                    "output_type": "execute_result"
                }
            ],
            "source": "# define the dataframe columns\ncolumn_names = ['Name', 'Address', 'Latitude', 'Longitude','Category'] \n\n# instantiate the dataframe\ndf_f = pd.DataFrame(columns=column_names)\ndf_f\n\n# first venue on the list\ndataframe['venue.name'][0]"
        },
        {
            "cell_type": "markdown",
            "metadata": {},
            "source": "### Extracting relevant information"
        },
        {
            "cell_type": "code",
            "execution_count": 198,
            "metadata": {},
            "outputs": [
                {
                    "data": {
                        "text/html": "<div>\n<style scoped>\n    .dataframe tbody tr th:only-of-type {\n        vertical-align: middle;\n    }\n\n    .dataframe tbody tr th {\n        vertical-align: top;\n    }\n\n    .dataframe thead th {\n        text-align: right;\n    }\n</style>\n<table border=\"1\" class=\"dataframe\">\n  <thead>\n    <tr style=\"text-align: right;\">\n      <th></th>\n      <th>Name</th>\n      <th>Address</th>\n      <th>Latitude</th>\n      <th>Longitude</th>\n      <th>Category</th>\n    </tr>\n  </thead>\n  <tbody>\n    <tr>\n      <th>0</th>\n      <td>Aachener Dom St. Marien</td>\n      <td>Klosterplatz 2</td>\n      <td>50.774702</td>\n      <td>6.084103</td>\n      <td>[{'id': '4bf58dd8d48988d132941735', 'name': 'C...</td>\n    </tr>\n    <tr>\n      <th>1</th>\n      <td>Katschhof</td>\n      <td>Katschhof</td>\n      <td>50.775611</td>\n      <td>6.083909</td>\n      <td>[{'id': '4bf58dd8d48988d164941735', 'name': 'P...</td>\n    </tr>\n    <tr>\n      <th>2</th>\n      <td>Domhof</td>\n      <td>Domhof</td>\n      <td>50.774658</td>\n      <td>6.083297</td>\n      <td>[{'id': '4bf58dd8d48988d164941735', 'name': 'P...</td>\n    </tr>\n    <tr>\n      <th>3</th>\n      <td>AKL</td>\n      <td>Pontstr. 1-3</td>\n      <td>50.776967</td>\n      <td>6.083277</td>\n      <td>[{'id': '4bf58dd8d48988d10b941735', 'name': 'F...</td>\n    </tr>\n    <tr>\n      <th>4</th>\n      <td>Vertical Weinbar</td>\n      <td>Kockerellstr. 13</td>\n      <td>50.776288</td>\n      <td>6.081469</td>\n      <td>[{'id': '4bf58dd8d48988d123941735', 'name': 'W...</td>\n    </tr>\n  </tbody>\n</table>\n</div>",
                        "text/plain": "                      Name           Address   Latitude  Longitude  \\\n0  Aachener Dom St. Marien    Klosterplatz 2  50.774702   6.084103   \n1                Katschhof         Katschhof  50.775611   6.083909   \n2                   Domhof            Domhof  50.774658   6.083297   \n3                      AKL      Pontstr. 1-3  50.776967   6.083277   \n4         Vertical Weinbar  Kockerellstr. 13  50.776288   6.081469   \n\n                                            Category  \n0  [{'id': '4bf58dd8d48988d132941735', 'name': 'C...  \n1  [{'id': '4bf58dd8d48988d164941735', 'name': 'P...  \n2  [{'id': '4bf58dd8d48988d164941735', 'name': 'P...  \n3  [{'id': '4bf58dd8d48988d10b941735', 'name': 'F...  \n4  [{'id': '4bf58dd8d48988d123941735', 'name': 'W...  "
                    },
                    "execution_count": 198,
                    "metadata": {},
                    "output_type": "execute_result"
                }
            ],
            "source": "df = dataframe.loc[:,['venue.name','venue.location.address','venue.location.lat','venue.location.lng','venue.categories']]\ndf.columns = column_names\ndf.head()"
        },
        {
            "cell_type": "code",
            "execution_count": 199,
            "metadata": {},
            "outputs": [
                {
                    "data": {
                        "text/plain": "'Church'"
                    },
                    "execution_count": 199,
                    "metadata": {},
                    "output_type": "execute_result"
                }
            ],
            "source": "df_c = pd.DataFrame(['Category'])\ncategorylist = list()\nrows, columns = df.shape\n\n# looping through every category and append it to a list\nfor i in range(rows):\n    category = df['Category'][i][0]['shortName']\n    categorylist.append(category)\n    #print(category)\n\n# First category\ndf['Category'][0][0]['shortName']"
        },
        {
            "cell_type": "markdown",
            "metadata": {},
            "source": "#### the next cell were just some test to extract the category out of the dataframe"
        },
        {
            "cell_type": "code",
            "execution_count": 200,
            "metadata": {},
            "outputs": [],
            "source": "# The code was removed by Watson Studio for sharing."
        },
        {
            "cell_type": "markdown",
            "metadata": {},
            "source": "### creating a new dataframe with only the extracted categories"
        },
        {
            "cell_type": "code",
            "execution_count": 201,
            "metadata": {},
            "outputs": [
                {
                    "data": {
                        "text/html": "<div>\n<style scoped>\n    .dataframe tbody tr th:only-of-type {\n        vertical-align: middle;\n    }\n\n    .dataframe tbody tr th {\n        vertical-align: top;\n    }\n\n    .dataframe thead th {\n        text-align: right;\n    }\n</style>\n<table border=\"1\" class=\"dataframe\">\n  <thead>\n    <tr style=\"text-align: right;\">\n      <th></th>\n      <th>Category</th>\n    </tr>\n  </thead>\n  <tbody>\n    <tr>\n      <th>0</th>\n      <td>Church</td>\n    </tr>\n    <tr>\n      <th>1</th>\n      <td>Plaza</td>\n    </tr>\n    <tr>\n      <th>2</th>\n      <td>Plaza</td>\n    </tr>\n    <tr>\n      <th>3</th>\n      <td>Falafel</td>\n    </tr>\n    <tr>\n      <th>4</th>\n      <td>Wine Bar</td>\n    </tr>\n  </tbody>\n</table>\n</div>",
                        "text/plain": "   Category\n0    Church\n1     Plaza\n2     Plaza\n3   Falafel\n4  Wine Bar"
                    },
                    "execution_count": 201,
                    "metadata": {},
                    "output_type": "execute_result"
                }
            ],
            "source": "df_c = pd.DataFrame(categorylist, columns = ['Category'])\ndf_c.head()"
        },
        {
            "cell_type": "markdown",
            "metadata": {},
            "source": "### override the existing category column with the extracted categories"
        },
        {
            "cell_type": "code",
            "execution_count": 202,
            "metadata": {},
            "outputs": [
                {
                    "data": {
                        "text/html": "<div>\n<style scoped>\n    .dataframe tbody tr th:only-of-type {\n        vertical-align: middle;\n    }\n\n    .dataframe tbody tr th {\n        vertical-align: top;\n    }\n\n    .dataframe thead th {\n        text-align: right;\n    }\n</style>\n<table border=\"1\" class=\"dataframe\">\n  <thead>\n    <tr style=\"text-align: right;\">\n      <th></th>\n      <th>Name</th>\n      <th>Address</th>\n      <th>Latitude</th>\n      <th>Longitude</th>\n      <th>Category</th>\n    </tr>\n  </thead>\n  <tbody>\n    <tr>\n      <th>0</th>\n      <td>Aachener Dom St. Marien</td>\n      <td>Klosterplatz 2</td>\n      <td>50.774702</td>\n      <td>6.084103</td>\n      <td>Church</td>\n    </tr>\n    <tr>\n      <th>1</th>\n      <td>Katschhof</td>\n      <td>Katschhof</td>\n      <td>50.775611</td>\n      <td>6.083909</td>\n      <td>Plaza</td>\n    </tr>\n    <tr>\n      <th>2</th>\n      <td>Domhof</td>\n      <td>Domhof</td>\n      <td>50.774658</td>\n      <td>6.083297</td>\n      <td>Plaza</td>\n    </tr>\n    <tr>\n      <th>3</th>\n      <td>AKL</td>\n      <td>Pontstr. 1-3</td>\n      <td>50.776967</td>\n      <td>6.083277</td>\n      <td>Falafel</td>\n    </tr>\n    <tr>\n      <th>4</th>\n      <td>Vertical Weinbar</td>\n      <td>Kockerellstr. 13</td>\n      <td>50.776288</td>\n      <td>6.081469</td>\n      <td>Wine Bar</td>\n    </tr>\n    <tr>\n      <th>5</th>\n      <td>BURGERISTA</td>\n      <td>Am Markt 46</td>\n      <td>50.776384</td>\n      <td>6.084331</td>\n      <td>Burgers</td>\n    </tr>\n    <tr>\n      <th>6</th>\n      <td>Ghorban Delikatessen Manufaktur</td>\n      <td>Kr\u00e4merstr. 5</td>\n      <td>50.776016</td>\n      <td>6.084324</td>\n      <td>Deli / Bodega</td>\n    </tr>\n    <tr>\n      <th>7</th>\n      <td>Rathaus</td>\n      <td>Markt</td>\n      <td>50.776378</td>\n      <td>6.083880</td>\n      <td>City Hall</td>\n    </tr>\n    <tr>\n      <th>8</th>\n      <td>Nobis Printen</td>\n      <td>M\u00fcnsterplatz 3</td>\n      <td>50.774577</td>\n      <td>6.084693</td>\n      <td>Bakery</td>\n    </tr>\n    <tr>\n      <th>9</th>\n      <td>Domkeller</td>\n      <td>Hof 1</td>\n      <td>50.775588</td>\n      <td>6.085062</td>\n      <td>Pub</td>\n    </tr>\n  </tbody>\n</table>\n</div>",
                        "text/plain": "                              Name           Address   Latitude  Longitude  \\\n0          Aachener Dom St. Marien    Klosterplatz 2  50.774702   6.084103   \n1                        Katschhof         Katschhof  50.775611   6.083909   \n2                           Domhof            Domhof  50.774658   6.083297   \n3                              AKL      Pontstr. 1-3  50.776967   6.083277   \n4                 Vertical Weinbar  Kockerellstr. 13  50.776288   6.081469   \n5                       BURGERISTA       Am Markt 46  50.776384   6.084331   \n6  Ghorban Delikatessen Manufaktur      Kr\u00e4merstr. 5  50.776016   6.084324   \n7                          Rathaus             Markt  50.776378   6.083880   \n8                    Nobis Printen    M\u00fcnsterplatz 3  50.774577   6.084693   \n9                        Domkeller             Hof 1  50.775588   6.085062   \n\n        Category  \n0         Church  \n1          Plaza  \n2          Plaza  \n3        Falafel  \n4       Wine Bar  \n5        Burgers  \n6  Deli / Bodega  \n7      City Hall  \n8         Bakery  \n9            Pub  "
                    },
                    "execution_count": 202,
                    "metadata": {},
                    "output_type": "execute_result"
                }
            ],
            "source": "df['Category'] = df_c['Category']\ndf.head(10)"
        },
        {
            "cell_type": "code",
            "execution_count": 203,
            "metadata": {},
            "outputs": [
                {
                    "name": "stdout",
                    "output_type": "stream",
                    "text": "There are 57 uniques categories.\n"
                }
            ],
            "source": "print('There are {} uniques categories.'.format(len(df['Category'].unique())))"
        },
        {
            "cell_type": "code",
            "execution_count": 237,
            "metadata": {},
            "outputs": [
                {
                    "data": {
                        "text/html": "<div>\n<style scoped>\n    .dataframe tbody tr th:only-of-type {\n        vertical-align: middle;\n    }\n\n    .dataframe tbody tr th {\n        vertical-align: top;\n    }\n\n    .dataframe thead th {\n        text-align: right;\n    }\n</style>\n<table border=\"1\" class=\"dataframe\">\n  <thead>\n    <tr style=\"text-align: right;\">\n      <th></th>\n      <th>Wine Bar</th>\n      <th>Asian</th>\n      <th>Bagels</th>\n      <th>Bakery</th>\n      <th>Bar</th>\n      <th>Beer Store</th>\n      <th>Bookstore</th>\n      <th>Burgers</th>\n      <th>Caf\u00e9</th>\n      <th>Chinese</th>\n      <th>...</th>\n      <th>Snacks</th>\n      <th>South American</th>\n      <th>Spa</th>\n      <th>Steakhouse</th>\n      <th>Supermarket</th>\n      <th>Sushi</th>\n      <th>Theater</th>\n      <th>Turkish</th>\n      <th>Vegetarian / Vegan</th>\n      <th>Vietnamese</th>\n    </tr>\n  </thead>\n  <tbody>\n  </tbody>\n</table>\n<p>0 rows \u00d7 57 columns</p>\n</div>",
                        "text/plain": "Empty DataFrame\nColumns: [Wine Bar, Asian, Bagels, Bakery, Bar, Beer Store, Bookstore, Burgers, Caf\u00e9, Chinese, Church, City Hall, Cocktail, Coffee Shop, Concert Hall, Cupcakes, Deli / Bodega, Desserts, Drugstore, Falafel, Fast Food, Furniture / Home, German, Halal, History Museum, Hobbies, Hotel, Hotel Bar, Ice Cream, Irish, Italian, Korean, Lounge, Mall, Mediterranean, Middle Eastern, Optical, Park, Performing Arts, Pet Caf\u00e9, Pizza, Plaza, Pub, Restaurant, Road, Schnitzel, Sculpture, Snacks, South American, Spa, Steakhouse, Supermarket, Sushi, Theater, Turkish, Vegetarian / Vegan, Vietnamese]\nIndex: []\n\n[0 rows x 57 columns]"
                    },
                    "execution_count": 237,
                    "metadata": {},
                    "output_type": "execute_result"
                }
            ],
            "source": "# Disply Categories in columns\naachen_onehot = pd.get_dummies(df[['Category']], prefix=\"\", prefix_sep=\"\")\n\nfixed_columns = [aachen_onehot.columns[-1]] + list(aachen_onehot.columns[:-1])\naachen_onehot = aachen_onehot[fixed_columns]\n\naachen_onehot.head(0)"
        },
        {
            "cell_type": "code",
            "execution_count": 238,
            "metadata": {},
            "outputs": [
                {
                    "data": {
                        "text/plain": "(100, 57)"
                    },
                    "execution_count": 238,
                    "metadata": {},
                    "output_type": "execute_result"
                }
            ],
            "source": "aachen_onehot.shape"
        },
        {
            "cell_type": "markdown",
            "metadata": {},
            "source": "### The top 5 location types"
        },
        {
            "cell_type": "code",
            "execution_count": 236,
            "metadata": {},
            "outputs": [
                {
                    "data": {
                        "text/html": "<div>\n<style scoped>\n    .dataframe tbody tr th:only-of-type {\n        vertical-align: middle;\n    }\n\n    .dataframe tbody tr th {\n        vertical-align: top;\n    }\n\n    .dataframe thead th {\n        text-align: right;\n    }\n</style>\n<table border=\"1\" class=\"dataframe\">\n  <thead>\n    <tr style=\"text-align: right;\">\n      <th></th>\n      <th>Count</th>\n    </tr>\n  </thead>\n  <tbody>\n    <tr>\n      <th>Bar</th>\n      <td>7</td>\n    </tr>\n    <tr>\n      <th>Bakery</th>\n      <td>6</td>\n    </tr>\n    <tr>\n      <th>Caf\u00e9</th>\n      <td>5</td>\n    </tr>\n    <tr>\n      <th>Italian</th>\n      <td>5</td>\n    </tr>\n    <tr>\n      <th>Coffee Shop</th>\n      <td>5</td>\n    </tr>\n  </tbody>\n</table>\n</div>",
                        "text/plain": "             Count\nBar              7\nBakery           6\nCaf\u00e9             5\nItalian          5\nCoffee Shop      5"
                    },
                    "execution_count": 236,
                    "metadata": {},
                    "output_type": "execute_result"
                }
            ],
            "source": "types = pd.DataFrame(aachen_onehot.sum(axis =0), columns = ['Count'])\nsortedtype = types.sort_values(by=['Count'], ascending=False)\nsortedtype.head(5)"
        },
        {
            "cell_type": "code",
            "execution_count": null,
            "metadata": {},
            "outputs": [],
            "source": ""
        }
    ],
    "metadata": {
        "kernelspec": {
            "display_name": "Python 3.6",
            "language": "python",
            "name": "python3"
        },
        "language_info": {
            "codemirror_mode": {
                "name": "ipython",
                "version": 3
            },
            "file_extension": ".py",
            "mimetype": "text/x-python",
            "name": "python",
            "nbconvert_exporter": "python",
            "pygments_lexer": "ipython3",
            "version": "3.6.9"
        }
    },
    "nbformat": 4,
    "nbformat_minor": 2
}